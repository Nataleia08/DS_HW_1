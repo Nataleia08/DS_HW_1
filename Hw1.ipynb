{
  "nbformat": 4,
  "nbformat_minor": 0,
  "metadata": {
    "colab": {
      "provenance": []
    },
    "kernelspec": {
      "name": "python3",
      "display_name": "Python 3"
    },
    "language_info": {
      "name": "python"
    }
  },
  "cells": [
    {
      "cell_type": "code",
      "execution_count": 2,
      "metadata": {
        "colab": {
          "base_uri": "https://localhost:8080/"
        },
        "id": "9mdDKJtQtB8p",
        "outputId": "3ca77ddc-3e8f-4f78-8893-8aee6e75503d"
      },
      "outputs": [
        {
          "output_type": "stream",
          "name": "stdout",
          "text": [
            "[ 1.  2.  3.  4.  5.  6.  7.  8.  9. 10.]\n"
          ]
        }
      ],
      "source": [
        "#Task 1 Створіть одновимірний масив (вектор) з першими 10-ма натуральними числами та виведіть його значення.\n",
        "import numpy as np\n",
        "a = np.linspace(1, 10, num=10)\n",
        "print(a)"
      ]
    },
    {
      "cell_type": "code",
      "source": [
        "#Task 2 Створіть двовимірний масив (матрицю) розміром 3x3, заповніть його нулями та виведіть його значення.\n",
        "b = np.zeros((3, 3), dtype=int)\n",
        "print(b)"
      ],
      "metadata": {
        "colab": {
          "base_uri": "https://localhost:8080/"
        },
        "id": "mxuBZpZ9toRY",
        "outputId": "b7ceb8b1-1c19-43f0-aa1a-51bbbd525b39"
      },
      "execution_count": null,
      "outputs": [
        {
          "output_type": "stream",
          "name": "stdout",
          "text": [
            "[[0 0 0]\n",
            " [0 0 0]\n",
            " [0 0 0]]\n"
          ]
        }
      ]
    },
    {
      "cell_type": "code",
      "source": [
        "#Task 3 Створіть масив розміром 5x5, заповніть його випадковими цілими числами в діапазоні від 1 до 10 та виведіть його значення.\n",
        "c = np.random.randint(1, 10, size=(5, 5))\n",
        "print(c)"
      ],
      "metadata": {
        "colab": {
          "base_uri": "https://localhost:8080/"
        },
        "id": "6lnKKtKUu-6u",
        "outputId": "62ae52f5-35b8-4d5d-aed7-b3fddfb436df"
      },
      "execution_count": null,
      "outputs": [
        {
          "output_type": "stream",
          "name": "stdout",
          "text": [
            "[[5 6 3 2 7]\n",
            " [4 2 5 1 4]\n",
            " [5 9 8 3 9]\n",
            " [5 1 1 4 4]\n",
            " [1 2 3 8 5]]\n"
          ]
        }
      ]
    },
    {
      "cell_type": "code",
      "source": [
        "#task 4 Створіть масив розміром 4x4, заповніть його випадковими дійсними числами в діапазоні від 0 до 1 та виведіть його значення.\n",
        "d = np.random.random((4, 4))\n",
        "print(d)"
      ],
      "metadata": {
        "colab": {
          "base_uri": "https://localhost:8080/"
        },
        "id": "QJ5zBZRPw2ds",
        "outputId": "f615f61c-4058-42d5-abe9-5b865a73e5ce"
      },
      "execution_count": null,
      "outputs": [
        {
          "output_type": "stream",
          "name": "stdout",
          "text": [
            "[[0.33852784 0.98826414 0.26941539 0.32251765]\n",
            " [0.56250617 0.13451488 0.19130749 0.00745331]\n",
            " [0.05734241 0.63786662 0.97192801 0.0213514 ]\n",
            " [0.29937429 0.7343855  0.74558729 0.42365391]]\n"
          ]
        }
      ]
    },
    {
      "cell_type": "code",
      "source": [
        "#Task 5 Створіть два одновимірних масиви розміром 5, заповніть їх випадковими цілими числами в діапазоні від 1 до 10 та виконайте на них поелементні операції додавання, віднімання та множення.\n",
        "e1 = np.random.randint(1, 10, size=(1, 5))\n",
        "e2 = np.random.randint(1, 10, size=(1, 5))\n",
        "e3 = e1 + e2\n",
        "e4 = e1 - e2\n",
        "e5 = e2 - e1\n",
        "e6 = e1*e2\n",
        "print(\"e1 = \", e1)\n",
        "print(\"e2 = \", e2)\n",
        "print(\"e1 + e2 = \", e3)\n",
        "print(\"e1 - e2 = \", e4)\n",
        "print(\"e2 - e1 = \", e5)\n",
        "print(\"e1*e2 = \", e6)"
      ],
      "metadata": {
        "colab": {
          "base_uri": "https://localhost:8080/"
        },
        "id": "FS2KzBLPxFvo",
        "outputId": "a4907a8e-b09e-46e0-8753-7f8941c2eaec"
      },
      "execution_count": null,
      "outputs": [
        {
          "output_type": "stream",
          "name": "stdout",
          "text": [
            "e1 =  [[4 9 7 3 9]]\n",
            "e2 =  [[6 6 7 9 5]]\n",
            "e1 + e2 =  [[10 15 14 12 14]]\n",
            "e1 - e2 =  [[-2  3  0 -6  4]]\n",
            "e2 - e1 =  [[ 2 -3  0  6 -4]]\n",
            "e1*e2 =  [[24 54 49 27 45]]\n"
          ]
        }
      ]
    },
    {
      "cell_type": "code",
      "source": [
        "#Task 6 Створіть два вектори розміром 7, заповніть довільними числами та знайдіть їх скалярний добуток.\n",
        "f1 = np.array([1, 2, 3, 4, 5, 6, 7], dtype=float)\n",
        "f2 = np.array([11, 12, 13, 14, 15, 16, 17], dtype=float)\n",
        "f3 = f1@f2\n",
        "f4 = np.dot(f1, f2)\n",
        "print(f1)\n",
        "print(f2)\n",
        "print(f3)\n",
        "print(f4)"
      ],
      "metadata": {
        "colab": {
          "base_uri": "https://localhost:8080/"
        },
        "id": "EEvJ6hYIyrsn",
        "outputId": "7ad5e55d-de90-442e-a52d-a046fa699089"
      },
      "execution_count": 34,
      "outputs": [
        {
          "output_type": "stream",
          "name": "stdout",
          "text": [
            "[1. 2. 3. 4. 5. 6. 7.]\n",
            "[11. 12. 13. 14. 15. 16. 17.]\n",
            "420.0\n",
            "420.0\n"
          ]
        }
      ]
    },
    {
      "cell_type": "code",
      "source": [
        "#Task 7 Створіть дві матриці розміром 2x2 та 2x3, заповніть їх випадковими цілими числами в діапазоні від 1 до 10 та перемножте їх між собою.\n",
        "g1 = np.random.randint(1, 10, size=(2, 2))\n",
        "g2 = np.random.randint(1, 10, size=(2, 3))\n",
        "g3 = np.dot(g1, g2)\n",
        "print(\"First matrix: \\n\", g1)\n",
        "print(\"Second matrix: \\n\", g2)\n",
        "print(\"Result of multiplication: \\n\", g3)"
      ],
      "metadata": {
        "colab": {
          "base_uri": "https://localhost:8080/"
        },
        "id": "4MZNoTKkzbd7",
        "outputId": "85f15a4a-4a80-4f3d-878b-df9c9e8fe66f"
      },
      "execution_count": null,
      "outputs": [
        {
          "output_type": "stream",
          "name": "stdout",
          "text": [
            "First matrix: \n",
            " [[3 2]\n",
            " [5 4]]\n",
            "Second matrix: \n",
            " [[1 2 5]\n",
            " [9 6 2]]\n",
            "Result of multiplication \n",
            " [[21 18 19]\n",
            " [41 34 33]]\n"
          ]
        }
      ]
    },
    {
      "cell_type": "code",
      "source": [
        "#Task 8 Створіть матрицю розміром 3x3, заповніть її випадковими цілими числами в діапазоні від 1 до 10 та знайдіть її обернену матрицю.\n",
        "h1 = np.random.randint(1, 10, size=(3, 3))\n",
        "h2 = np.linalg.inv(h1)\n",
        "print(\"Matrix: \\n\", h1)\n",
        "print(\"Reversed matrix: \\n\", h2)"
      ],
      "metadata": {
        "colab": {
          "base_uri": "https://localhost:8080/"
        },
        "id": "Rfg5UpetzjlF",
        "outputId": "c8941a72-7c61-44a7-8744-f6c2ebcf8392"
      },
      "execution_count": null,
      "outputs": [
        {
          "output_type": "stream",
          "name": "stdout",
          "text": [
            "[[8 8 1]\n",
            " [4 3 8]\n",
            " [8 6 4]]\n",
            "[[-0.375      -0.27083333  0.63541667]\n",
            " [ 0.5         0.25       -0.625     ]\n",
            " [ 0.          0.16666667 -0.08333333]]\n"
          ]
        }
      ]
    },
    {
      "cell_type": "code",
      "source": [
        "#Task 9 Створіть матрицю розміром 4x4, заповніть її випадковими дійсними числами в діапазоні від 0 до 1 та транспонуйте її.\n",
        "j1 = np.random.random((4, 4))\n",
        "j2 = j1.T\n",
        "print(\"Matrix: \\n\", j1)\n",
        "print(\"Transposed matrix: \\n\", j2)"
      ],
      "metadata": {
        "colab": {
          "base_uri": "https://localhost:8080/"
        },
        "id": "t2r_cagtznd0",
        "outputId": "233a1236-101a-4bc6-b29b-9e48e31caa7e"
      },
      "execution_count": null,
      "outputs": [
        {
          "output_type": "stream",
          "name": "stdout",
          "text": [
            "Matrix: \n",
            " [[0.31074508 0.41865741 0.62862865 0.38166726]\n",
            " [0.78682882 0.70247066 0.77471964 0.55303691]\n",
            " [0.4765392  0.07524895 0.01096708 0.27612284]\n",
            " [0.22181514 0.7282292  0.54818802 0.57475205]]\n",
            "Transposed matrix: \n",
            " [[0.31074508 0.78682882 0.4765392  0.22181514]\n",
            " [0.41865741 0.70247066 0.07524895 0.7282292 ]\n",
            " [0.62862865 0.77471964 0.01096708 0.54818802]\n",
            " [0.38166726 0.55303691 0.27612284 0.57475205]]\n"
          ]
        }
      ]
    },
    {
      "cell_type": "code",
      "source": [
        "#Task 10 Створіть матрицю розміром 3x4 та вектор розміром 4, заповніть їх випадковими цілими числами в діапазоні від 1 до 10 та перемножте матрицю на вектор.\n",
        "k1 = np.random.randint(1, 10, size=(3, 4))\n",
        "k2 = np.random.randint(1, 10, size=(4))\n",
        "print(\"Matrix: \\n\", k1)\n",
        "print(\"Vector: \\n\", k2)\n",
        "print(\"Result of multiplication: \\n\", k1*k2)"
      ],
      "metadata": {
        "colab": {
          "base_uri": "https://localhost:8080/"
        },
        "id": "6Hlw1LJSztxX",
        "outputId": "d3e4f358-636a-4225-ed6e-d1d4776c116b"
      },
      "execution_count": null,
      "outputs": [
        {
          "output_type": "stream",
          "name": "stdout",
          "text": [
            "Matrix: \n",
            " [[7 7 5 4]\n",
            " [6 1 2 7]\n",
            " [1 5 6 8]]\n",
            "Vector: \n",
            " [1 2 1 2]\n",
            "Result of multiplication: \n",
            " [[ 7 14  5  8]\n",
            " [ 6  2  2 14]\n",
            " [ 1 10  6 16]]\n"
          ]
        }
      ]
    },
    {
      "cell_type": "code",
      "source": [
        "#Task 11 Створіть матрицю розміром 2x3 та вектор розміром 3, заповніть їх випадковими дійсними числами в діапазоні від 0 до 1 та перемножте матрицю на вектор.\n",
        "l1 = np.random.random((2, 3))\n",
        "l2 = np.random.random((3))\n",
        "print(\"Matrix: \\n\", l1)\n",
        "print(\"Vector \\n\", l2)\n",
        "print(\"Result of multiplicatio: \\n\", l1*l2)"
      ],
      "metadata": {
        "colab": {
          "base_uri": "https://localhost:8080/"
        },
        "id": "9dVBZupxzxW2",
        "outputId": "25b0af29-d13a-4505-93e7-bb7424e6b3bc"
      },
      "execution_count": null,
      "outputs": [
        {
          "output_type": "stream",
          "name": "stdout",
          "text": [
            "Matrix: \n",
            " [[0.47176313 0.68036565 0.72572885]\n",
            " [0.82240708 0.31809932 0.45517601]]\n",
            "Vector \n",
            " [0.63817513 0.70470303 0.7946945 ]\n",
            "Result of multiplicatio: \n",
            " [[0.3010675  0.47945574 0.57673273]\n",
            " [0.52483974 0.22416555 0.36172587]]\n"
          ]
        }
      ]
    },
    {
      "cell_type": "code",
      "source": [
        "#Task 12 Створіть дві матриці розміром 2x2, заповніть їх випадковими цілими числами в діапазоні від 1 до 10 та виконайте їхнє поелементне множення.\n",
        "m1 = np.random.randint(1, 10, size=(2, 2))\n",
        "m2 = np.random.randint(1, 10, size=(2, 2))\n",
        "print(\"First matrix: \\n\", m1)\n",
        "print(\"Second matrix: \\n\", m2)\n",
        "print(\"The result of element-by-element multiplication: \\n\", m1*m2)"
      ],
      "metadata": {
        "colab": {
          "base_uri": "https://localhost:8080/"
        },
        "id": "FMMr0caXz2Ir",
        "outputId": "350c08e4-c10f-4216-f80a-8d0426f30d47"
      },
      "execution_count": null,
      "outputs": [
        {
          "output_type": "stream",
          "name": "stdout",
          "text": [
            "First matrix: \n",
            " [[6 5]\n",
            " [9 3]]\n",
            "Second matrix: \n",
            " [[5 4]\n",
            " [2 3]]\n",
            "The result of element-by-element multiplication: \n",
            " [[30 20]\n",
            " [18  9]]\n"
          ]
        }
      ]
    },
    {
      "cell_type": "code",
      "source": [
        "#Task 13 Створіть дві матриці розміром 2x2, заповніть їх випадковими цілими числами в діапазоні від 1 до 10 та знайдіть їх добуток.\n",
        "n1 = np.random.randint(1, 10, size=(2, 2))\n",
        "n2 = np.random.randint(1, 10, size=(2, 2))\n",
        "n3 = np.dot(n1, n2)\n",
        "print(\"First matrix: \\n\", n1)\n",
        "print(\"Second matrix: \\n\", n2)\n",
        "print(\"Result of multiplication: \\n\", n3)"
      ],
      "metadata": {
        "colab": {
          "base_uri": "https://localhost:8080/"
        },
        "id": "ddnZPqFzz7sX",
        "outputId": "e0a35ad8-36cf-4c6a-a894-72a0483b7b96"
      },
      "execution_count": null,
      "outputs": [
        {
          "output_type": "stream",
          "name": "stdout",
          "text": [
            "First matrix: \n",
            " [[8 9]\n",
            " [5 5]]\n",
            "Second matrix: \n",
            " [[2 9]\n",
            " [8 2]]\n",
            "Result of multiplication: \n",
            " [[88 90]\n",
            " [50 55]]\n"
          ]
        }
      ]
    },
    {
      "cell_type": "code",
      "source": [
        "#Task 14 Створіть матрицю розміром 5x5, заповніть її випадковими цілими числами в діапазоні від 1 до 100 та знайдіть суму елементів матриці.\n",
        "o1 = np.random.randint(1, 100, size=(5, 5))\n",
        "o2 = np.sum(o1)\n",
        "o3 = o1.flatten().sum()\n",
        "print(\"Matrix: \\n\", o1)\n",
        "print(\"Summa: \\n\", o3)\n",
        "print(\"Summa: \\n\", o2)"
      ],
      "metadata": {
        "colab": {
          "base_uri": "https://localhost:8080/"
        },
        "id": "EvY1xlKk0ArX",
        "outputId": "cdb07f1e-3bec-43e8-daf9-639838057920"
      },
      "execution_count": 29,
      "outputs": [
        {
          "output_type": "stream",
          "name": "stdout",
          "text": [
            "Matrix: \n",
            " [[26 71 25 54 40]\n",
            " [49 53 22 85 57]\n",
            " [62 58 34 34 62]\n",
            " [65 38 76 29 28]\n",
            " [24 94 58 29 75]]\n",
            "Summa: \n",
            " 1248\n",
            "Summa: \n",
            " 1248\n"
          ]
        }
      ]
    },
    {
      "cell_type": "code",
      "source": [
        "#Task 15 Створіть дві матриці розміром 4x4, заповніть їх випадковими цілими числами в діапазоні від 1 до 10 та знайдіть їхню різницю.\n",
        "p1 = np.random.randint(1, 10, size=(4, 4))\n",
        "p2 = np.random.randint(1, 10, size=(4, 4))\n",
        "p3 = p1 - p2\n",
        "p4 = p2 - p1\n",
        "print(\"First matrix: \\n\", p1)\n",
        "print(\"Second matrix: \\n\", p2)\n",
        "print(\"Result of the subtraction: \\n\", p3)\n",
        "print(\"Result of the subtraction: \\n\", p4)"
      ],
      "metadata": {
        "colab": {
          "base_uri": "https://localhost:8080/"
        },
        "id": "F-QbeI2M0LHy",
        "outputId": "0ca30840-715e-4630-e50c-17d62c448f16"
      },
      "execution_count": 36,
      "outputs": [
        {
          "output_type": "stream",
          "name": "stdout",
          "text": [
            "First matrix: \n",
            " [[1 9 2 5]\n",
            " [1 9 7 1]\n",
            " [2 3 2 8]\n",
            " [4 3 1 7]]\n",
            "Second matrix: \n",
            " [[4 2 2 4]\n",
            " [6 9 5 3]\n",
            " [7 1 5 9]\n",
            " [9 4 9 4]]\n",
            "Result of the subtraction: \n",
            " [[-3  7  0  1]\n",
            " [-5  0  2 -2]\n",
            " [-5  2 -3 -1]\n",
            " [-5 -1 -8  3]]\n",
            "Result of the subtraction: \n",
            " [[ 3 -7  0 -1]\n",
            " [ 5  0 -2  2]\n",
            " [ 5 -2  3  1]\n",
            " [ 5  1  8 -3]]\n"
          ]
        }
      ]
    },
    {
      "cell_type": "code",
      "source": [
        "#Task 16 Створіть матрицю розміром 3x3, заповніть її випадковими дійсними числами в діапазоні від 0 до 1 та знайдіть вектор-стовпчик, що містить суму елементів кожного рядка матриці.\n",
        "q = np.random.random((3, 3))\n",
        "q4 = np.array([[q[0, :].sum()], [q[1, :].sum()], [q[2, :].sum()]], dtype = float)\n",
        "q5 = np.column_stack(q.sum(axis=1)).T\n",
        "print(\"Matrix: \\n\", q)\n",
        "print(\"Vector-column: \\n\", q4)\n",
        "print(\"Vector: \\n\",q5)"
      ],
      "metadata": {
        "id": "7BNuX6fC0P_Q",
        "colab": {
          "base_uri": "https://localhost:8080/"
        },
        "outputId": "874d3834-6e6b-4804-f068-cd556bc23f20"
      },
      "execution_count": 41,
      "outputs": [
        {
          "output_type": "stream",
          "name": "stdout",
          "text": [
            "Matrix: \n",
            " [[0.84789743 0.99088805 0.11276668]\n",
            " [0.53020833 0.44505048 0.84147807]\n",
            " [0.90590906 0.12101422 0.99920614]]\n",
            "Vector-column: \n",
            " [[1.95155217]\n",
            " [1.81673688]\n",
            " [2.02612943]]\n",
            "Vector: \n",
            " [[1.95155217]\n",
            " [1.81673688]\n",
            " [2.02612943]]\n"
          ]
        }
      ]
    },
    {
      "cell_type": "code",
      "source": [
        "#Task 17 Створіть матрицю розміром 3x4 з довільними цілими числами і створінь матрицю з квадратами цих чисел.\n",
        "r1 = np.random.randint(1, 10, size=(3, 4))\n",
        "r2 = np.multiply(r1,r1)\n",
        "r3 = np.power(r1, 2)\n",
        "r4 = np.square(r1)\n",
        "print(\"Matrix: \\n\", r1)\n",
        "print(\"Matrix of their squares of numbers: \\n\", r2)\n",
        "print(\"Matrix of their squares of numbers: \\n\", r3)\n",
        "print(\"Matrix of their squares of numbers: \\n\", r4)"
      ],
      "metadata": {
        "id": "O6s8u-c-0UYi",
        "colab": {
          "base_uri": "https://localhost:8080/"
        },
        "outputId": "0facf8b9-2f0b-4a40-c66d-77c2da058d4b"
      },
      "execution_count": 30,
      "outputs": [
        {
          "output_type": "stream",
          "name": "stdout",
          "text": [
            "Matrix: \n",
            " [[9 5 5 9]\n",
            " [2 1 4 7]\n",
            " [8 5 3 6]]\n",
            "Matrix of their squares of numbers: \n",
            " [[81 25 25 81]\n",
            " [ 4  1 16 49]\n",
            " [64 25  9 36]]\n",
            "Matrix of their squares of numbers: \n",
            " [[81 25 25 81]\n",
            " [ 4  1 16 49]\n",
            " [64 25  9 36]]\n",
            "Matrix of their squares of numbers: \n",
            " [[81 25 25 81]\n",
            " [ 4  1 16 49]\n",
            " [64 25  9 36]]\n"
          ]
        }
      ]
    },
    {
      "cell_type": "code",
      "source": [
        "#Task 18 Створіть вектор розміром 4, заповніть його випадковими цілими числами в діапазоні від 1 до 50 та знайдіть вектор з квадратними коренями цих чисел.\n",
        "s1 = np.random.randint(1, 50, size=(1, 4))\n",
        "s2 = np.sqrt(s1)\n",
        "print(\"Vector: \\n\", s1)\n",
        "print(\"Vector with square roots of numbers: \\n\", s2)"
      ],
      "metadata": {
        "id": "3cuNcG4n0YPd",
        "colab": {
          "base_uri": "https://localhost:8080/"
        },
        "outputId": "f3c72a74-28d3-4ffe-a475-8814a89bf207"
      },
      "execution_count": 19,
      "outputs": [
        {
          "output_type": "stream",
          "name": "stdout",
          "text": [
            "Vector: \n",
            " [[33 16 39 39]]\n",
            "Vector with square roots of numbers: \n",
            " [[5.74456265 4.         6.244998   6.244998  ]]\n"
          ]
        }
      ]
    }
  ]
}