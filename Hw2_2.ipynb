{
  "nbformat": 4,
  "nbformat_minor": 0,
  "metadata": {
    "colab": {
      "provenance": []
    },
    "kernelspec": {
      "name": "python3",
      "display_name": "Python 3"
    },
    "language_info": {
      "name": "python"
    }
  },
  "cells": [
    {
      "cell_type": "code",
      "execution_count": 74,
      "metadata": {
        "id": "PoG46HaviVDZ"
      },
      "outputs": [],
      "source": [
        "import pandas as pd\n",
        "%matplotlib inline"
      ]
    },
    {
      "cell_type": "code",
      "source": [
        "#Прочитайте файл 2017_jun_final.csv за допомогою методу read_csv\n",
        "mas = pd.read_csv(\"2017_jun_final.csv\")\n",
        "\n",
        "print(mas)"
      ],
      "metadata": {
        "colab": {
          "base_uri": "https://localhost:8080/"
        },
        "id": "pP5ta_lz22Wq",
        "outputId": "fbc51552-ca0e-4bd5-f474-e56c26ee0fc1"
      },
      "execution_count": 5,
      "outputs": [
        {
          "output_type": "stream",
          "name": "stdout",
          "text": [
            "         N                 Должность Язык.программирования Специализация  \\\n",
            "0        1        Junior QA engineer                   NaN     Manual QA   \n",
            "1        2        Junior QA engineer                   NaN     Manual QA   \n",
            "2        3         Software Engineer               C#/.NET           NaN   \n",
            "3        4         Software Engineer            JavaScript           NaN   \n",
            "4        5  Senior Software Engineer            JavaScript           NaN   \n",
            "...    ...                       ...                   ...           ...   \n",
            "8699  8700               QA engineer                   NaN     Manual QA   \n",
            "8700  8701                 Marketing                   NaN           NaN   \n",
            "8701  8702  Junior Software Engineer            Ruby/Rails           NaN   \n",
            "8702  8703                 Team lead                   NaN           NaN   \n",
            "8703  8704  Senior Software Engineer                  Java           NaN   \n",
            "\n",
            "     Общий.опыт.работы Опыт.работы.на.текущем.месте  Зарплата.в.месяц  \\\n",
            "0                  0.5                          0.5               400   \n",
            "1     меньше 3 месяцев             меньше 3 месяцев               430   \n",
            "2                    4                            1              2500   \n",
            "3                    5                            4              2000   \n",
            "4       10 и более лет                          0.5              4500   \n",
            "...                ...                          ...               ...   \n",
            "8699                 1             меньше 3 месяцев               700   \n",
            "8700               0.5                          0.5               400   \n",
            "8701                 1                          0.5               800   \n",
            "8702                 6                            4              2600   \n",
            "8703                 7                            2              5000   \n",
            "\n",
            "      Изменение.зарплаты.за.12.месяцев    Город     Размер.компании  ...  \\\n",
            "0                                    0  Харьков       до 10 человек  ...   \n",
            "1                                  130  Харьков  свыше 1000 человек  ...   \n",
            "2                                  800     Киев     до 1000 человек  ...   \n",
            "3                                  400   Одесса      до 200 человек  ...   \n",
            "4                                  500   Другой       до 10 человек  ...   \n",
            "...                                ...      ...                 ...  ...   \n",
            "8699                               700   Одесса       до 50 человек  ...   \n",
            "8700                               120     Киев       до 50 человек  ...   \n",
            "8701                               500    Львов       до 10 человек  ...   \n",
            "8702                                 0    Днепр  свыше 1000 человек  ...   \n",
            "8703                               800   Одесса     до 1000 человек  ...   \n",
            "\n",
            "     Еще.студент Уровень.английского                    Предметная.область  \\\n",
            "0           True       ниже среднего                         iOS,eCommerce   \n",
            "1           True       выше среднего                        Веб-разработка   \n",
            "2          False             средний  Веб-разработка,Корпоративные системы   \n",
            "3          False       ниже среднего   Desktop Applications,Веб-разработка   \n",
            "4          False             средний   Desktop Applications,Веб-разработка   \n",
            "...          ...                 ...                                   ...   \n",
            "8699       False             средний          Android,Desktop Applications   \n",
            "8700       False       ниже среднего                             eCommerce   \n",
            "8701       False       выше среднего  Веб-разработка,Корпоративные системы   \n",
            "8702       False         продвинутый                       Финансы и банки   \n",
            "8703       False       выше среднего                        Веб-разработка   \n",
            "\n",
            "          Дата.заполнения                                         User.Agent  \\\n",
            "0     12/06/2017 12:38:08  Mozilla/5.0 (Windows NT 10.0; Win64; x64) Appl...   \n",
            "1     12/06/2017 12:42:51  Mozilla/5.0 (iPad; CPU OS 10_2_1 like Mac OS X...   \n",
            "2     12/06/2017 13:02:47  Mozilla/5.0 (Windows NT 10.0; Win64; x64) Appl...   \n",
            "3     12/06/2017 13:03:01  Mozilla/5.0 (Windows NT 6.1; Win64; x64) Apple...   \n",
            "4     12/06/2017 13:03:47  Mozilla/5.0 (iPhone; CPU iPhone OS 10_3_2 like...   \n",
            "...                   ...                                                ...   \n",
            "8699  12/07/2017 15:45:24  Mozilla/5.0 (X11; Ubuntu; Linux x86_64; rv:54....   \n",
            "8700  12/07/2017 17:00:06  Mozilla/5.0 (Windows NT 10.0; Win64; x64) Appl...   \n",
            "8701  12/07/2017 17:32:26  Mozilla/5.0 (X11; Linux x86_64) AppleWebKit/53...   \n",
            "8702  12/07/2017 18:14:59  Mozilla/5.0 (Windows NT 6.1) AppleWebKit/537.3...   \n",
            "8703  12/07/2017 21:28:57  Mozilla/5.0 (iPad; CPU OS 10_3_2 like Mac OS X...   \n",
            "\n",
            "       exp current_job_exp salary Валюта  cls  \n",
            "0      0.5             0.5    400    NaN   QA  \n",
            "1      0.0             0.0    430    NaN   QA  \n",
            "2      4.0             1.0   2500    NaN  DEV  \n",
            "3      5.0             4.0   2000    NaN  DEV  \n",
            "4     10.0             0.5   4500    NaN  DEV  \n",
            "...    ...             ...    ...    ...  ...  \n",
            "8699   1.0             0.0    700    NaN   QA  \n",
            "8700   0.5             0.5    400    NaN  NaN  \n",
            "8701   1.0             0.5    800    NaN  DEV  \n",
            "8702   6.0             4.0   2600    NaN   PM  \n",
            "8703   7.0             2.0   5000    NaN  DEV  \n",
            "\n",
            "[8704 rows x 25 columns]\n"
          ]
        }
      ]
    },
    {
      "cell_type": "code",
      "source": [
        "#Прочитайте отриману таблицю, використовуючи метод head\n",
        "print(mas.head())"
      ],
      "metadata": {
        "id": "Yb0W2Sue23ZE",
        "colab": {
          "base_uri": "https://localhost:8080/"
        },
        "outputId": "641b33c9-8d4d-421e-fc96-79a5901c1c8c"
      },
      "execution_count": null,
      "outputs": [
        {
          "output_type": "stream",
          "name": "stdout",
          "text": [
            "   N                 Должность Язык.программирования Специализация  \\\n",
            "0  1        Junior QA engineer                   NaN     Manual QA   \n",
            "1  2        Junior QA engineer                   NaN     Manual QA   \n",
            "2  3         Software Engineer               C#/.NET           NaN   \n",
            "3  4         Software Engineer            JavaScript           NaN   \n",
            "4  5  Senior Software Engineer            JavaScript           NaN   \n",
            "\n",
            "  Общий.опыт.работы Опыт.работы.на.текущем.месте  Зарплата.в.месяц  \\\n",
            "0               0.5                          0.5               400   \n",
            "1  меньше 3 месяцев             меньше 3 месяцев               430   \n",
            "2                 4                            1              2500   \n",
            "3                 5                            4              2000   \n",
            "4    10 и более лет                          0.5              4500   \n",
            "\n",
            "   Изменение.зарплаты.за.12.месяцев    Город     Размер.компании  ...  \\\n",
            "0                                 0  Харьков       до 10 человек  ...   \n",
            "1                               130  Харьков  свыше 1000 человек  ...   \n",
            "2                               800     Киев     до 1000 человек  ...   \n",
            "3                               400   Одесса      до 200 человек  ...   \n",
            "4                               500   Другой       до 10 человек  ...   \n",
            "\n",
            "  Еще.студент Уровень.английского                    Предметная.область  \\\n",
            "0        True       ниже среднего                         iOS,eCommerce   \n",
            "1        True       выше среднего                        Веб-разработка   \n",
            "2       False             средний  Веб-разработка,Корпоративные системы   \n",
            "3       False       ниже среднего   Desktop Applications,Веб-разработка   \n",
            "4       False             средний   Desktop Applications,Веб-разработка   \n",
            "\n",
            "       Дата.заполнения                                         User.Agent  \\\n",
            "0  12/06/2017 12:38:08  Mozilla/5.0 (Windows NT 10.0; Win64; x64) Appl...   \n",
            "1  12/06/2017 12:42:51  Mozilla/5.0 (iPad; CPU OS 10_2_1 like Mac OS X...   \n",
            "2  12/06/2017 13:02:47  Mozilla/5.0 (Windows NT 10.0; Win64; x64) Appl...   \n",
            "3  12/06/2017 13:03:01  Mozilla/5.0 (Windows NT 6.1; Win64; x64) Apple...   \n",
            "4  12/06/2017 13:03:47  Mozilla/5.0 (iPhone; CPU iPhone OS 10_3_2 like...   \n",
            "\n",
            "    exp current_job_exp salary Валюта  cls  \n",
            "0   0.5             0.5    400    NaN   QA  \n",
            "1   0.0             0.0    430    NaN   QA  \n",
            "2   4.0             1.0   2500    NaN  DEV  \n",
            "3   5.0             4.0   2000    NaN  DEV  \n",
            "4  10.0             0.5   4500    NaN  DEV  \n",
            "\n",
            "[5 rows x 25 columns]\n"
          ]
        }
      ]
    },
    {
      "cell_type": "code",
      "source": [
        "#Визначте розмір таблиці за допомогою методу shape\n",
        "print(mas.shape)"
      ],
      "metadata": {
        "id": "YQLltra02-Jw",
        "colab": {
          "base_uri": "https://localhost:8080/"
        },
        "outputId": "40b8f5cc-9ac5-44bf-ba24-11666d7e7c81"
      },
      "execution_count": null,
      "outputs": [
        {
          "output_type": "stream",
          "name": "stdout",
          "text": [
            "(8704, 25)\n"
          ]
        }
      ]
    },
    {
      "cell_type": "code",
      "source": [
        "#Визначте типи всіх стовпців за допомогою dataframe.dtypes\n",
        "print(mas.dtypes)"
      ],
      "metadata": {
        "id": "zvzjIBy93Keq",
        "colab": {
          "base_uri": "https://localhost:8080/"
        },
        "outputId": "c2e5ad35-c1d1-4ae9-d1aa-ae37202c14df"
      },
      "execution_count": null,
      "outputs": [
        {
          "output_type": "stream",
          "name": "stdout",
          "text": [
            "N                                     int64\n",
            "Должность                            object\n",
            "Язык.программирования                object\n",
            "Специализация                        object\n",
            "Общий.опыт.работы                    object\n",
            "Опыт.работы.на.текущем.месте         object\n",
            "Зарплата.в.месяц                      int64\n",
            "Изменение.зарплаты.за.12.месяцев      int64\n",
            "Город                                object\n",
            "Размер.компании                      object\n",
            "Тип.компании                         object\n",
            "Пол                                  object\n",
            "Возраст                               int64\n",
            "Образование                          object\n",
            "Университет                          object\n",
            "Еще.студент                            bool\n",
            "Уровень.английского                  object\n",
            "Предметная.область                   object\n",
            "Дата.заполнения                      object\n",
            "User.Agent                           object\n",
            "exp                                 float64\n",
            "current_job_exp                     float64\n",
            "salary                                int64\n",
            "Валюта                               object\n",
            "cls                                  object\n",
            "dtype: object\n"
          ]
        }
      ]
    },
    {
      "cell_type": "code",
      "source": [
        "#Порахуйте, яка частка пропусків міститься в кожній колонці (використовуйте методи isnull та sum)\n",
        "num_nan = mas.isna().sum(min_count=True)\n",
        "print(num_nan)"
      ],
      "metadata": {
        "id": "ghP57QNA3Om3",
        "colab": {
          "base_uri": "https://localhost:8080/"
        },
        "outputId": "6ee64ae2-b861-4c12-f5f4-eb320404d9a1"
      },
      "execution_count": null,
      "outputs": [
        {
          "output_type": "stream",
          "name": "stdout",
          "text": [
            "N                                      0\n",
            "Должность                              0\n",
            "Язык.программирования               3850\n",
            "Специализация                       7219\n",
            "Общий.опыт.работы                      0\n",
            "Опыт.работы.на.текущем.месте           0\n",
            "Зарплата.в.месяц                       0\n",
            "Изменение.зарплаты.за.12.месяцев       0\n",
            "Город                                  0\n",
            "Размер.компании                        0\n",
            "Тип.компании                           0\n",
            "Пол                                    0\n",
            "Возраст                                0\n",
            "Образование                            0\n",
            "Университет                          358\n",
            "Еще.студент                            0\n",
            "Уровень.английского                    0\n",
            "Предметная.область                   223\n",
            "Дата.заполнения                        0\n",
            "User.Agent                             0\n",
            "exp                                    0\n",
            "current_job_exp                        0\n",
            "salary                                 0\n",
            "Валюта                              8694\n",
            "cls                                 1574\n",
            "dtype: int64\n"
          ]
        }
      ]
    },
    {
      "cell_type": "code",
      "source": [
        "#Видаліть усі стовпці з пропусками, крім стовпця \"Мова програмування\"\n",
        "#Знову порахуйте, яка частка пропусків міститься в кожній колонці і переконайтеся, що залишився тільки стовпець \"Мова.програмування\"\n",
        "mas1 =  pd.concat([mas.dropna(axis = 1, how = \"any\").reset_index(drop = True), mas[\"Язык.программирования\"]], axis=1)\n",
        "num_nan1 = mas1.isna().sum(min_count=True)\n",
        "print(num_nan1)"
      ],
      "metadata": {
        "id": "usDP1mjr3SCw",
        "colab": {
          "base_uri": "https://localhost:8080/"
        },
        "outputId": "4adbf6ef-39df-4235-90c3-c4ecc493be0c"
      },
      "execution_count": null,
      "outputs": [
        {
          "output_type": "stream",
          "name": "stdout",
          "text": [
            "N                                      0\n",
            "Должность                              0\n",
            "Общий.опыт.работы                      0\n",
            "Опыт.работы.на.текущем.месте           0\n",
            "Зарплата.в.месяц                       0\n",
            "Изменение.зарплаты.за.12.месяцев       0\n",
            "Город                                  0\n",
            "Размер.компании                        0\n",
            "Тип.компании                           0\n",
            "Пол                                    0\n",
            "Возраст                                0\n",
            "Образование                            0\n",
            "Еще.студент                            0\n",
            "Уровень.английского                    0\n",
            "Дата.заполнения                        0\n",
            "User.Agent                             0\n",
            "exp                                    0\n",
            "current_job_exp                        0\n",
            "salary                                 0\n",
            "Язык.программирования               3850\n",
            "dtype: int64\n"
          ]
        }
      ]
    },
    {
      "cell_type": "code",
      "source": [
        "#Видаліть усі рядки у вихідній таблиці за допомогою методу dropna\n",
        "mas2 = mas.dropna(axis =0).reset_index(drop = True)"
      ],
      "metadata": {
        "id": "c2zXav943WNK"
      },
      "execution_count": null,
      "outputs": []
    },
    {
      "cell_type": "code",
      "source": [
        "#Визначте новий розмір таблиці за допомогою методу shape\n",
        "print(mas2.shape)"
      ],
      "metadata": {
        "id": "Zard0VvN3sxw",
        "colab": {
          "base_uri": "https://localhost:8080/"
        },
        "outputId": "b4572ebb-f39b-44e8-f81d-ebc2b8aab612"
      },
      "execution_count": null,
      "outputs": [
        {
          "output_type": "stream",
          "name": "stdout",
          "text": [
            "(0, 25)\n"
          ]
        }
      ]
    },
    {
      "cell_type": "code",
      "source": [
        "#Створіть нову таблицю python_data, в якій будуть тільки рядки зі спеціалістами, які вказали мову програмування Python\n",
        "python_data = mas[mas[\"Язык.программирования\"] == \"Python\" ]\n",
        "print(python_data)"
      ],
      "metadata": {
        "id": "NfrXr7ZT3vk_",
        "colab": {
          "base_uri": "https://localhost:8080/"
        },
        "outputId": "7cf8395d-475b-48c9-e743-adde088079b9"
      },
      "execution_count": 23,
      "outputs": [
        {
          "output_type": "stream",
          "name": "stdout",
          "text": [
            "         N                 Должность Язык.программирования Специализация  \\\n",
            "12      13         Software Engineer                Python           NaN   \n",
            "68      69         Software Engineer                Python           NaN   \n",
            "87      88  Junior Software Engineer                Python           NaN   \n",
            "114    115  Junior Software Engineer                Python           NaN   \n",
            "143    144  Junior Software Engineer                Python           NaN   \n",
            "...    ...                       ...                   ...           ...   \n",
            "8546  8547         Software Engineer                Python           NaN   \n",
            "8625  8626         Software Engineer                Python           NaN   \n",
            "8635  8636  Senior Software Engineer                Python           NaN   \n",
            "8673  8674  Junior Software Engineer                Python           NaN   \n",
            "8695  8696         Software Engineer                Python           NaN   \n",
            "\n",
            "     Общий.опыт.работы Опыт.работы.на.текущем.месте  Зарплата.в.месяц  \\\n",
            "12                   1             меньше 3 месяцев               800   \n",
            "68                 1.5                          0.5               900   \n",
            "87                 0.5                          0.5               600   \n",
            "114                1.5                          0.5               685   \n",
            "143                  1                            1               750   \n",
            "...                ...                          ...               ...   \n",
            "8546                 5                            1              2000   \n",
            "8625                 4                            1              1750   \n",
            "8635    10 и более лет             меньше 3 месяцев              4000   \n",
            "8673               0.5                          0.5               350   \n",
            "8695                 1                          0.5              1500   \n",
            "\n",
            "      Изменение.зарплаты.за.12.месяцев      Город     Размер.компании  ...  \\\n",
            "12                                 200       Киев       до 50 человек  ...   \n",
            "68                                 900       Киев       до 10 человек  ...   \n",
            "87                                   0       Киев       до 10 человек  ...   \n",
            "114                                250       Киев     до 1000 человек  ...   \n",
            "143                                250       Киев       до 10 человек  ...   \n",
            "...                                ...        ...                 ...  ...   \n",
            "8546                               800  Запорожье       до 50 человек  ...   \n",
            "8625                                 0       Киев  свыше 1000 человек  ...   \n",
            "8635                              1300   Удаленно       до 10 человек  ...   \n",
            "8673                                50       Киев       до 50 человек  ...   \n",
            "8695                              1000       Киев       до 10 человек  ...   \n",
            "\n",
            "     Уровень.английского         Предметная.область      Дата.заполнения  \\\n",
            "12         ниже среднего      Веб-разработка,Другое  12/06/2017 13:05:54   \n",
            "68         выше среднего             Веб-разработка  12/06/2017 13:11:17   \n",
            "87         выше среднего   Веб-разработка,eCommerce  12/06/2017 13:12:25   \n",
            "114              средний                     Другое  12/06/2017 13:14:52   \n",
            "143        выше среднего             Веб-разработка  12/06/2017 13:19:10   \n",
            "...                  ...                        ...                  ...   \n",
            "8546             средний             Веб-разработка  10/07/2017 14:11:26   \n",
            "8625             средний             Веб-разработка  11/07/2017 16:15:40   \n",
            "8635       выше среднего             Веб-разработка  11/07/2017 17:51:36   \n",
            "8673             средний             Веб-разработка  12/07/2017 09:37:16   \n",
            "8695             средний  Финансы и банки,eCommerce  12/07/2017 14:39:21   \n",
            "\n",
            "                                             User.Agent   exp  \\\n",
            "12    Mozilla/5.0 (Windows NT 6.1; Win64; x64) Apple...   1.0   \n",
            "68    Mozilla/5.0 (Windows NT 10.0; Win64; x64) Appl...   1.5   \n",
            "87    Mozilla/5.0 (X11; Linux x86_64) AppleWebKit/53...   0.5   \n",
            "114   Mozilla/5.0 (X11; Linux x86_64) AppleWebKit/53...   1.5   \n",
            "143   Mozilla/5.0 (X11; Linux x86_64) AppleWebKit/53...   1.0   \n",
            "...                                                 ...   ...   \n",
            "8546  Mozilla/5.0 (Macintosh; Intel Mac OS X 10_12_5...   5.0   \n",
            "8625  Mozilla/5.0 (X11; Ubuntu; Linux x86_64; rv:54....   4.0   \n",
            "8635  Mozilla/5.0 (X11; Linux x86_64) AppleWebKit/53...  10.0   \n",
            "8673  Mozilla/5.0 (X11; Ubuntu; Linux x86_64; rv:54....   0.5   \n",
            "8695  Mozilla/5.0 (X11; Linux x86_64) AppleWebKit/53...   1.0   \n",
            "\n",
            "      current_job_exp salary Валюта  cls          avg  \n",
            "12                0.0    800    NaN  DEV  1678.630074  \n",
            "68                0.5    900    NaN  DEV  1678.630074  \n",
            "87                0.5    600    NaN  DEV   605.658594  \n",
            "114               0.5    685    NaN  DEV   605.658594  \n",
            "143               1.0    750    NaN  DEV   605.658594  \n",
            "...               ...    ...    ...  ...          ...  \n",
            "8546              1.0   2000    NaN  DEV  1678.630074  \n",
            "8625              1.0   1750    NaN  DEV  1678.630074  \n",
            "8635              0.0   4000    NaN  DEV  3243.200926  \n",
            "8673              0.5    350    NaN  DEV   605.658594  \n",
            "8695              0.5   1500    NaN  DEV  1678.630074  \n",
            "\n",
            "[207 rows x 26 columns]\n"
          ]
        }
      ]
    },
    {
      "cell_type": "code",
      "source": [
        "#Визначте розмір таблиці python_data за допомогою методу shape\n",
        "print(python_data.shape)"
      ],
      "metadata": {
        "id": "iTuRmihf3x_l",
        "colab": {
          "base_uri": "https://localhost:8080/"
        },
        "outputId": "08a77273-d094-4adb-a690-2926afff899f"
      },
      "execution_count": null,
      "outputs": [
        {
          "output_type": "stream",
          "name": "stdout",
          "text": [
            "(207, 25)\n"
          ]
        }
      ]
    },
    {
      "cell_type": "code",
      "source": [
        "#Використовуючи метод groupby, виконайте групування за стовпчиком \"Посада\"\n",
        "# mas3 = mas.groupby([\"Должность\"], group_keys=True).apply(lambda x: x)\n",
        "# print(mas3)\n",
        "p_mas = python_data.groupby([\"Должность\"], group_keys=True).apply(lambda x: x)\n",
        "print(p_mas)"
      ],
      "metadata": {
        "id": "MYZnIMqc30Lc",
        "colab": {
          "base_uri": "https://localhost:8080/"
        },
        "outputId": "09ce1a85-7351-4c4d-a237-b51166d48f77"
      },
      "execution_count": 40,
      "outputs": [
        {
          "output_type": "stream",
          "name": "stdout",
          "text": [
            "                                  N                 Должность  \\\n",
            "Должность                                                       \n",
            "Junior Software Engineer 87      88  Junior Software Engineer   \n",
            "                         114    115  Junior Software Engineer   \n",
            "                         143    144  Junior Software Engineer   \n",
            "                         162    163  Junior Software Engineer   \n",
            "                         171    172  Junior Software Engineer   \n",
            "...                             ...                       ...   \n",
            "Technical Lead           5316  5317            Technical Lead   \n",
            "                         6192  6193            Technical Lead   \n",
            "                         6910  6911            Technical Lead   \n",
            "                         8381  8382            Technical Lead   \n",
            "                         8445  8446            Technical Lead   \n",
            "\n",
            "                              Язык.программирования Специализация  \\\n",
            "Должность                                                           \n",
            "Junior Software Engineer 87                  Python           NaN   \n",
            "                         114                 Python           NaN   \n",
            "                         143                 Python           NaN   \n",
            "                         162                 Python           NaN   \n",
            "                         171                 Python           NaN   \n",
            "...                                             ...           ...   \n",
            "Technical Lead           5316                Python           NaN   \n",
            "                         6192                Python           NaN   \n",
            "                         6910                Python           NaN   \n",
            "                         8381                Python           NaN   \n",
            "                         8445                Python           NaN   \n",
            "\n",
            "                              Общий.опыт.работы Опыт.работы.на.текущем.месте  \\\n",
            "Должность                                                                      \n",
            "Junior Software Engineer 87                 0.5                          0.5   \n",
            "                         114                1.5                          0.5   \n",
            "                         143                  1                            1   \n",
            "                         162                0.5                          0.5   \n",
            "                         171               0.25                         0.25   \n",
            "...                                         ...                          ...   \n",
            "Technical Lead           5316    10 и более лет                            7   \n",
            "                         6192                 3                            3   \n",
            "                         6910    10 и более лет               10 и более лет   \n",
            "                         8381                 7                            1   \n",
            "                         8445                 7                            7   \n",
            "\n",
            "                               Зарплата.в.месяц  \\\n",
            "Должность                                         \n",
            "Junior Software Engineer 87                 600   \n",
            "                         114                685   \n",
            "                         143                750   \n",
            "                         162                500   \n",
            "                         171                800   \n",
            "...                                         ...   \n",
            "Technical Lead           5316              2700   \n",
            "                         6192              3700   \n",
            "                         6910              2500   \n",
            "                         8381              3000   \n",
            "                         8445              1900   \n",
            "\n",
            "                               Изменение.зарплаты.за.12.месяцев     Город  \\\n",
            "Должность                                                                   \n",
            "Junior Software Engineer 87                                   0      Киев   \n",
            "                         114                                250      Киев   \n",
            "                         143                                250      Киев   \n",
            "                         162                                  0   Винница   \n",
            "                         171                                  0      Киев   \n",
            "...                                                         ...       ...   \n",
            "Technical Lead           5316                                 0   Харьков   \n",
            "                         6192                                 0    Одесса   \n",
            "                         6910                               200    Херсон   \n",
            "                         8381                              1000  Удаленно   \n",
            "                         8445                               150     Львов   \n",
            "\n",
            "                               Размер.компании  ... Уровень.английского  \\\n",
            "Должность                                       ...                       \n",
            "Junior Software Engineer 87      до 10 человек  ...       выше среднего   \n",
            "                         114   до 1000 человек  ...             средний   \n",
            "                         143     до 10 человек  ...       выше среднего   \n",
            "                         162    до 200 человек  ...       ниже среднего   \n",
            "                         171     до 50 человек  ...         продвинутый   \n",
            "...                                        ...  ...                 ...   \n",
            "Technical Lead           5316    до 10 человек  ...       выше среднего   \n",
            "                         6192    до 10 человек  ...       выше среднего   \n",
            "                         6910    до 50 человек  ...       ниже среднего   \n",
            "                         8381    до 10 человек  ...       выше среднего   \n",
            "                         8445   до 200 человек  ...       выше среднего   \n",
            "\n",
            "                                                 Предметная.область  \\\n",
            "Должность                                                             \n",
            "Junior Software Engineer 87                Веб-разработка,eCommerce   \n",
            "                         114                                 Другое   \n",
            "                         143                         Веб-разработка   \n",
            "                         162                         Веб-разработка   \n",
            "                         171                       Телекоммуникации   \n",
            "...                                                             ...   \n",
            "Technical Lead           5316                        Веб-разработка   \n",
            "                         6192                 Корпоративные системы   \n",
            "                         6910                        Веб-разработка   \n",
            "                         8381  Веб-разработка,Корпоративные системы   \n",
            "                         8445  Веб-разработка,Корпоративные системы   \n",
            "\n",
            "                                   Дата.заполнения  \\\n",
            "Должность                                            \n",
            "Junior Software Engineer 87    12/06/2017 13:12:25   \n",
            "                         114   12/06/2017 13:14:52   \n",
            "                         143   12/06/2017 13:19:10   \n",
            "                         162   12/06/2017 13:21:08   \n",
            "                         171   12/06/2017 13:22:31   \n",
            "...                                            ...   \n",
            "Technical Lead           5316  20/06/2017 16:31:42   \n",
            "                         6192  21/06/2017 13:55:30   \n",
            "                         6910  26/06/2017 12:16:50   \n",
            "                         8381  07/07/2017 19:51:15   \n",
            "                         8445  08/07/2017 18:46:55   \n",
            "\n",
            "                                                                      User.Agent  \\\n",
            "Должность                                                                          \n",
            "Junior Software Engineer 87    Mozilla/5.0 (X11; Linux x86_64) AppleWebKit/53...   \n",
            "                         114   Mozilla/5.0 (X11; Linux x86_64) AppleWebKit/53...   \n",
            "                         143   Mozilla/5.0 (X11; Linux x86_64) AppleWebKit/53...   \n",
            "                         162   Mozilla/5.0 (Linux; Android 7.1.2; LG-D802 Bui...   \n",
            "                         171   Mozilla/5.0 (X11; Linux x86_64) AppleWebKit/53...   \n",
            "...                                                                          ...   \n",
            "Technical Lead           5316  Mozilla/5.0 (X11; Linux x86_64) AppleWebKit/53...   \n",
            "                         6192  Mozilla/5.0 (X11; Ubuntu; Linux x86_64; rv:54....   \n",
            "                         6910  Mozilla/5.0 (X11; Ubuntu; Linux x86_64; rv:54....   \n",
            "                         8381  Mozilla/5.0 (Macintosh; Intel Mac OS X 10_12_5...   \n",
            "                         8445  Mozilla/5.0 (X11; Linux x86_64) AppleWebKit/53...   \n",
            "\n",
            "                                 exp  current_job_exp salary Валюта   cls  \\\n",
            "Должность                                                                   \n",
            "Junior Software Engineer 87     0.50             0.50    600    NaN   DEV   \n",
            "                         114    1.50             0.50    685    NaN   DEV   \n",
            "                         143    1.00             1.00    750    NaN   DEV   \n",
            "                         162    0.50             0.50    500    NaN   DEV   \n",
            "                         171    0.25             0.25    800    NaN   DEV   \n",
            "...                              ...              ...    ...    ...   ...   \n",
            "Technical Lead           5316  10.00             7.00   2700    NaN  SDEV   \n",
            "                         6192   3.00             3.00   3700    NaN  SDEV   \n",
            "                         6910  10.00            10.00   2500    NaN  SDEV   \n",
            "                         8381   7.00             1.00   3000    NaN  SDEV   \n",
            "                         8445   7.00             7.00   1900    NaN  SDEV   \n",
            "\n",
            "                                       avg  \n",
            "Должность                                   \n",
            "Junior Software Engineer 87     605.658594  \n",
            "                         114    605.658594  \n",
            "                         143    605.658594  \n",
            "                         162    605.658594  \n",
            "                         171    605.658594  \n",
            "...                                    ...  \n",
            "Technical Lead           5316  3664.272000  \n",
            "                         6192  3664.272000  \n",
            "                         6910  3664.272000  \n",
            "                         8381  3664.272000  \n",
            "                         8445  3664.272000  \n",
            "\n",
            "[207 rows x 26 columns]\n"
          ]
        }
      ]
    },
    {
      "cell_type": "code",
      "source": [
        "#Створіть новий DataFrame, де для згрупованих даних за стовпчиком \"Посада\", виконайте агрегацію даних за допомогою методу agg і знайдіть мінімальне та максимальне значення у стовпчику \"Зарплата.в.місяць\"\n",
        "# mas_exp = mas.groupby([\"Должность\"]).agg({\"min\", \"max\"})\n",
        "# print(mas_exp)\n",
        "p_exp = python_data.groupby([\"Должность\"]).agg({\"min\", \"max\"})\n",
        "print(p_exp)"
      ],
      "metadata": {
        "id": "29QNUSHz39C1",
        "colab": {
          "base_uri": "https://localhost:8080/"
        },
        "outputId": "8e072f78-7827-406e-bc0d-2702ec58d236"
      },
      "execution_count": 39,
      "outputs": [
        {
          "output_type": "stream",
          "name": "stdout",
          "text": [
            "                             N       Язык.программирования          \\\n",
            "                           min   max                   min     max   \n",
            "Должность                                                            \n",
            "Junior Software Engineer    88  8674                Python  Python   \n",
            "Senior Software Engineer   303  8636                Python  Python   \n",
            "Software Engineer           13  8696                Python  Python   \n",
            "System Architect          5749  8229                Python  Python   \n",
            "Technical Lead            2633  8446                Python  Python   \n",
            "\n",
            "                         Специализация     Общий.опыт.работы  \\\n",
            "                                   min max               min   \n",
            "Должность                                                      \n",
            "Junior Software Engineer           NaN NaN              0.25   \n",
            "Senior Software Engineer           NaN NaN    10 и более лет   \n",
            "Software Engineer                  NaN NaN              0.25   \n",
            "System Architect                   NaN NaN    10 и более лет   \n",
            "Technical Lead                     NaN NaN    10 и более лет   \n",
            "\n",
            "                                           Опыт.работы.на.текущем.месте  \\\n",
            "                                       max                          min   \n",
            "Должность                                                                 \n",
            "Junior Software Engineer  меньше 3 месяцев                         0.25   \n",
            "Senior Software Engineer                 9                         0.25   \n",
            "Software Engineer         меньше 3 месяцев                         0.25   \n",
            "System Architect            10 и более лет                         0.25   \n",
            "Technical Lead                           7                         0.25   \n",
            "\n",
            "                                            ... current_job_exp       salary  \\\n",
            "                                       max  ...             min   max    min   \n",
            "Должность                                   ...                                \n",
            "Junior Software Engineer  меньше 3 месяцев  ...            0.00   2.0    100   \n",
            "Senior Software Engineer  меньше 3 месяцев  ...            0.00   6.0   1300   \n",
            "Software Engineer         меньше 3 месяцев  ...            0.00   5.0    500   \n",
            "System Architect                         2  ...            0.25   2.0   3000   \n",
            "Technical Lead                           7  ...            0.25  10.0   1425   \n",
            "\n",
            "                               Валюта       cls                avg  \\\n",
            "                           max    min max   min   max          min   \n",
            "Должность                                                            \n",
            "Junior Software Engineer  1250    NaN NaN   DEV   DEV   605.658594   \n",
            "Senior Software Engineer  9200    NaN NaN   DEV   DEV  3243.200926   \n",
            "Software Engineer         5400    NaN NaN   DEV   DEV  1678.630074   \n",
            "System Architect          5000    NaN NaN  SDEV  SDEV  4387.076923   \n",
            "Technical Lead            6200    NaN NaN  SDEV  SDEV  3664.272000   \n",
            "\n",
            "                                       \n",
            "                                  max  \n",
            "Должность                              \n",
            "Junior Software Engineer   605.658594  \n",
            "Senior Software Engineer  3243.200926  \n",
            "Software Engineer         1678.630074  \n",
            "System Architect          4387.076923  \n",
            "Technical Lead            3664.272000  \n",
            "\n",
            "[5 rows x 46 columns]\n"
          ]
        },
        {
          "output_type": "stream",
          "name": "stderr",
          "text": [
            "<ipython-input-39-4aafdb37a189>:4: FutureWarning: ['Университет', 'Предметная.область'] did not aggregate successfully. If any error is raised this will raise in a future version of pandas. Drop these columns/ops to avoid this warning.\n",
            "  p_exp = python_data.groupby([\"Должность\"]).agg({\"min\", \"max\"})\n"
          ]
        }
      ]
    },
    {
      "cell_type": "code",
      "source": [
        "#Створіть функцію fill_avg_salary, яка повертатиме середнє значення заробітної плати на місяць. Використовуйте її для методу apply та створіть новий стовпчик \"avg\"\n",
        "def fill_avg_salary(df):\n",
        "    return mas.agg({'Зарплата.в.месяц' : ['mean']}).rename(columns={'Зарплата.в.месяц': 'avg'})\n",
        "\n",
        "avg_sal = python_data.groupby('Должность').apply(fill_avg_salary).droplevel(level=1)\n",
        "print(avg_sal)\n"
      ],
      "metadata": {
        "id": "SFClpNl43-D3",
        "colab": {
          "base_uri": "https://localhost:8080/"
        },
        "outputId": "99444e97-4c8a-4ad9-8120-8911d279b6ba"
      },
      "execution_count": 29,
      "outputs": [
        {
          "output_type": "stream",
          "name": "stdout",
          "text": [
            "                                  avg\n",
            "Должность                            \n",
            "Junior Software Engineer  1666.704159\n",
            "Senior Software Engineer  1666.704159\n",
            "Software Engineer         1666.704159\n",
            "System Architect          1666.704159\n",
            "Technical Lead            1666.704159\n"
          ]
        }
      ]
    },
    {
      "cell_type": "code",
      "source": [
        "#Створіть описову статистику за допомогою методу describe для нового стовпчика.\n",
        "avg_sal.describe().astype(int)\n",
        "# print(avg_sal.describe().)"
      ],
      "metadata": {
        "id": "mK7Q_6BV4Dux",
        "colab": {
          "base_uri": "https://localhost:8080/",
          "height": 300
        },
        "outputId": "81a88932-bf4d-40eb-f0a4-40a9de625efb"
      },
      "execution_count": 36,
      "outputs": [
        {
          "output_type": "execute_result",
          "data": {
            "text/plain": [
              "        avg\n",
              "count     5\n",
              "mean   1666\n",
              "std       0\n",
              "min    1666\n",
              "25%    1666\n",
              "50%    1666\n",
              "75%    1666\n",
              "max    1666"
            ],
            "text/html": [
              "\n",
              "  <div id=\"df-26792be8-e9c2-46b6-84ef-1e76f3611505\">\n",
              "    <div class=\"colab-df-container\">\n",
              "      <div>\n",
              "<style scoped>\n",
              "    .dataframe tbody tr th:only-of-type {\n",
              "        vertical-align: middle;\n",
              "    }\n",
              "\n",
              "    .dataframe tbody tr th {\n",
              "        vertical-align: top;\n",
              "    }\n",
              "\n",
              "    .dataframe thead th {\n",
              "        text-align: right;\n",
              "    }\n",
              "</style>\n",
              "<table border=\"1\" class=\"dataframe\">\n",
              "  <thead>\n",
              "    <tr style=\"text-align: right;\">\n",
              "      <th></th>\n",
              "      <th>avg</th>\n",
              "    </tr>\n",
              "  </thead>\n",
              "  <tbody>\n",
              "    <tr>\n",
              "      <th>count</th>\n",
              "      <td>5</td>\n",
              "    </tr>\n",
              "    <tr>\n",
              "      <th>mean</th>\n",
              "      <td>1666</td>\n",
              "    </tr>\n",
              "    <tr>\n",
              "      <th>std</th>\n",
              "      <td>0</td>\n",
              "    </tr>\n",
              "    <tr>\n",
              "      <th>min</th>\n",
              "      <td>1666</td>\n",
              "    </tr>\n",
              "    <tr>\n",
              "      <th>25%</th>\n",
              "      <td>1666</td>\n",
              "    </tr>\n",
              "    <tr>\n",
              "      <th>50%</th>\n",
              "      <td>1666</td>\n",
              "    </tr>\n",
              "    <tr>\n",
              "      <th>75%</th>\n",
              "      <td>1666</td>\n",
              "    </tr>\n",
              "    <tr>\n",
              "      <th>max</th>\n",
              "      <td>1666</td>\n",
              "    </tr>\n",
              "  </tbody>\n",
              "</table>\n",
              "</div>\n",
              "      <button class=\"colab-df-convert\" onclick=\"convertToInteractive('df-26792be8-e9c2-46b6-84ef-1e76f3611505')\"\n",
              "              title=\"Convert this dataframe to an interactive table.\"\n",
              "              style=\"display:none;\">\n",
              "        \n",
              "  <svg xmlns=\"http://www.w3.org/2000/svg\" height=\"24px\"viewBox=\"0 0 24 24\"\n",
              "       width=\"24px\">\n",
              "    <path d=\"M0 0h24v24H0V0z\" fill=\"none\"/>\n",
              "    <path d=\"M18.56 5.44l.94 2.06.94-2.06 2.06-.94-2.06-.94-.94-2.06-.94 2.06-2.06.94zm-11 1L8.5 8.5l.94-2.06 2.06-.94-2.06-.94L8.5 2.5l-.94 2.06-2.06.94zm10 10l.94 2.06.94-2.06 2.06-.94-2.06-.94-.94-2.06-.94 2.06-2.06.94z\"/><path d=\"M17.41 7.96l-1.37-1.37c-.4-.4-.92-.59-1.43-.59-.52 0-1.04.2-1.43.59L10.3 9.45l-7.72 7.72c-.78.78-.78 2.05 0 2.83L4 21.41c.39.39.9.59 1.41.59.51 0 1.02-.2 1.41-.59l7.78-7.78 2.81-2.81c.8-.78.8-2.07 0-2.86zM5.41 20L4 18.59l7.72-7.72 1.47 1.35L5.41 20z\"/>\n",
              "  </svg>\n",
              "      </button>\n",
              "      \n",
              "  <style>\n",
              "    .colab-df-container {\n",
              "      display:flex;\n",
              "      flex-wrap:wrap;\n",
              "      gap: 12px;\n",
              "    }\n",
              "\n",
              "    .colab-df-convert {\n",
              "      background-color: #E8F0FE;\n",
              "      border: none;\n",
              "      border-radius: 50%;\n",
              "      cursor: pointer;\n",
              "      display: none;\n",
              "      fill: #1967D2;\n",
              "      height: 32px;\n",
              "      padding: 0 0 0 0;\n",
              "      width: 32px;\n",
              "    }\n",
              "\n",
              "    .colab-df-convert:hover {\n",
              "      background-color: #E2EBFA;\n",
              "      box-shadow: 0px 1px 2px rgba(60, 64, 67, 0.3), 0px 1px 3px 1px rgba(60, 64, 67, 0.15);\n",
              "      fill: #174EA6;\n",
              "    }\n",
              "\n",
              "    [theme=dark] .colab-df-convert {\n",
              "      background-color: #3B4455;\n",
              "      fill: #D2E3FC;\n",
              "    }\n",
              "\n",
              "    [theme=dark] .colab-df-convert:hover {\n",
              "      background-color: #434B5C;\n",
              "      box-shadow: 0px 1px 3px 1px rgba(0, 0, 0, 0.15);\n",
              "      filter: drop-shadow(0px 1px 2px rgba(0, 0, 0, 0.3));\n",
              "      fill: #FFFFFF;\n",
              "    }\n",
              "  </style>\n",
              "\n",
              "      <script>\n",
              "        const buttonEl =\n",
              "          document.querySelector('#df-26792be8-e9c2-46b6-84ef-1e76f3611505 button.colab-df-convert');\n",
              "        buttonEl.style.display =\n",
              "          google.colab.kernel.accessAllowed ? 'block' : 'none';\n",
              "\n",
              "        async function convertToInteractive(key) {\n",
              "          const element = document.querySelector('#df-26792be8-e9c2-46b6-84ef-1e76f3611505');\n",
              "          const dataTable =\n",
              "            await google.colab.kernel.invokeFunction('convertToInteractive',\n",
              "                                                     [key], {});\n",
              "          if (!dataTable) return;\n",
              "\n",
              "          const docLinkHtml = 'Like what you see? Visit the ' +\n",
              "            '<a target=\"_blank\" href=https://colab.research.google.com/notebooks/data_table.ipynb>data table notebook</a>'\n",
              "            + ' to learn more about interactive tables.';\n",
              "          element.innerHTML = '';\n",
              "          dataTable['output_type'] = 'display_data';\n",
              "          await google.colab.output.renderOutput(dataTable, element);\n",
              "          const docLink = document.createElement('div');\n",
              "          docLink.innerHTML = docLinkHtml;\n",
              "          element.appendChild(docLink);\n",
              "        }\n",
              "      </script>\n",
              "    </div>\n",
              "  </div>\n",
              "  "
            ]
          },
          "metadata": {},
          "execution_count": 36
        }
      ]
    },
    {
      "cell_type": "code",
      "source": [
        "#Збережіть отриману таблицю в CSV файл\n",
        "python_data.to_csv(\"./table.csv\", index=False)"
      ],
      "metadata": {
        "id": "0xKaqi774JQy"
      },
      "execution_count": 41,
      "outputs": []
    },
    {
      "cell_type": "code",
      "source": [
        "#додайте від 3 до 5 графіків функцій різного типу на ваш вибір. Задайте графікам оформлення, щоб кожен графік у своїй домашній роботі чимось відрізнявся і не був схожим на інші. Можна використовувати як matplotlib, так і seaborn.\n",
        "import matplotlib.pyplot as plt\n",
        "import numpy as np\n",
        "p_exp[\"Зарплата.в.месяц\"].plot(kind = 'barh', color = [\"green\", \"pink\"])\n",
        "plt.title('Дохід у місяць', fontsize=15)\n",
        "plt.legend()\n",
        "plt.grid()\n",
        "plt.show()"
      ],
      "metadata": {
        "id": "pA-1o5En4q6L",
        "colab": {
          "base_uri": "https://localhost:8080/",
          "height": 454
        },
        "outputId": "39e43c46-f42c-4857-df5b-d9af99c0146a"
      },
      "execution_count": 75,
      "outputs": [
        {
          "output_type": "display_data",
          "data": {
            "text/plain": [
              "<Figure size 640x480 with 1 Axes>"
            ],
            "image/png": "[encoded data removed]"
          },
          "metadata": {}
        }
      ]
    },
    {
      "cell_type": "code",
      "source": [
        "import matplotlib.pyplot as plt\n",
        "import numpy as np\n",
        "p_mas.plot.hexbin(y='Зарплата.в.месяц', x='Изменение.зарплаты.за.12.месяцев', gridsize=10, cmap=\"viridis\")\n",
        "plt.title('Зміна зарплати за рік із співвідношеням до рівня зарплати', fontsize=10)\n",
        "plt.grid()\n",
        "plt.show()"
      ],
      "metadata": {
        "colab": {
          "base_uri": "https://localhost:8080/",
          "height": 469
        },
        "id": "iQWc9lvW6wxv",
        "outputId": "956eae83-5475-4bab-c012-c5267638fa16"
      },
      "execution_count": 76,
      "outputs": [
        {
          "output_type": "display_data",
          "data": {
            "text/plain": [
              "<Figure size 640x480 with 2 Axes>"
            ],
            "image/png": "[encoded data removed]"
          },
          "metadata": {}
        }
      ]
    },
    {
      "cell_type": "code",
      "source": [
        "import matplotlib.pyplot as plt\n",
        "import numpy as np\n",
        "python_data.plot.scatter(y = 'Должность', x = \"Возраст\", color='#22A699')\n",
        "# plt.yticks(np.arange(0,27), p_exp[\"Должность\"])\n",
        "plt.xlabel(\"Вік\")\n",
        "plt.ylabel(\"Позиція\")\n",
        "plt.title('Співвідношення віку та посади', fontsize=15)\n",
        "# plt.legend()\n",
        "plt.grid()\n",
        "plt.show()"
      ],
      "metadata": {
        "colab": {
          "base_uri": "https://localhost:8080/",
          "height": 474
        },
        "id": "nEZbS5db6xez",
        "outputId": "e3a2b3f6-d705-4356-fe43-cee418d638cd"
      },
      "execution_count": 77,
      "outputs": [
        {
          "output_type": "display_data",
          "data": {
            "text/plain": [
              "<Figure size 640x480 with 1 Axes>"
            ],
            "image/png": "[encoded data removed]"
          },
          "metadata": {}
        }
      ]
    }
  ]
}