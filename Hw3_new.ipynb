{
  "nbformat": 4,
  "nbformat_minor": 0,
  "metadata": {
    "colab": {
      "provenance": []
    },
    "kernelspec": {
      "name": "python3",
      "display_name": "Python 3"
    },
    "language_info": {
      "name": "python"
    }
  },
  "cells": [
    {
      "cell_type": "code",
      "source": [
        "import pandas as pd\n",
        "import numpy as np\n",
        "#напишіть функцію гіпотези лінійної регресії у векторному вигляді;\n",
        "def gip_lin_reg(X: pd.Series, w: pd.Series):\n",
        "  h_result = np.dot(X, w)\n",
        "  return h_result"
      ],
      "metadata": {
        "id": "swYlZDhBuPOM"
      },
      "execution_count": 1,
      "outputs": []
    },
    {
      "cell_type": "code",
      "source": [
        "#створіть функцію для обчислення функції втрат у векторному вигляді;\n",
        "def loss_vecto(X: pd.Series, w: pd.Series, y: pd.Series):\n",
        "  m = len(y)\n",
        "  h = gip_lin_reg(X, w)\n",
        "  error = h - y\n",
        "  return (1/m) * np.sum(error**2)"
      ],
      "metadata": {
        "id": "v7WjDWPAuPzU"
      },
      "execution_count": 3,
      "outputs": []
    },
    {
      "cell_type": "code",
      "source": [
        "#реалізуйте один крок градієнтного спуску;\n",
        "def grad_step(X, y, w, leaning_rate):\n",
        "    m = len(y)\n",
        "    h = gip_lin_reg(X, w)\n",
        "    error = h - y\n",
        "    gradient = np.dot(X.T, error)\n",
        "    w = w - leaning_rate*gradient\n",
        "    return w"
      ],
      "metadata": {
        "id": "bVf7N4rruSfJ"
      },
      "execution_count": 4,
      "outputs": []
    },
    {
      "cell_type": "code",
      "source": [
        "#знайдіть найкращі параметри для датасету прогнозуючу ціну на будинок залежно від площі, кількості ванних кімнат та кількості спалень;\n",
        "from sklearn.linear_model import LinearRegression\n",
        "data_set_2 = pd.read_csv(\"Housing.csv\")\n",
        "data_x_2 = pd.concat([data_set_2['area'], data_set_2['bedrooms'], data_set_2['bathrooms']], axis = 1)\n",
        "X = pd.concat([pd.Series(np.ones(data_x_2.shape[0])), data_x_2], axis = 1)\n",
        "y = pd.DataFrame(data = data_set_2['price'], dtype = int)\n",
        "w = np.zeros((data_x_2.shape[1]+1, 1))\n",
        "w_new = grad_step(X, y, w, 0.00000003)\n",
        "loss_new = loss_vecto(X, w_new, y)\n",
        "for i in range(3):\n",
        "  w_new = grad_step(X, y, w_new, 0.00000001)\n",
        "  loss_new = loss_vecto(X, w_new, y)\n",
        "  print(w_new.astype(int))\n",
        "  print(loss_new.astype(int))\n"
      ],
      "metadata": {
        "id": "m7U13O0huU6p",
        "colab": {
          "base_uri": "https://localhost:8080/"
        },
        "outputId": "c18ddbb3-4ca1-4782-a965-4f4c251d9142"
      },
      "execution_count": 12,
      "outputs": [
        {
          "output_type": "stream",
          "name": "stdout",
          "text": [
            "[[   -12160]\n",
            " [-73780227]\n",
            " [   -36625]\n",
            " [   -16133]]\n",
            "price   -9223372036854775808\n",
            "dtype: int64\n",
            "[[    2058910]\n",
            " [12483598629]\n",
            " [    6202012]\n",
            " [    2732587]]\n",
            "price   -9223372036854775808\n",
            "dtype: int64\n",
            "[[    -348361425]\n",
            " [-2112197428113]\n",
            " [   -1049360606]\n",
            " [    -462344269]]\n",
            "price   -9223372036854775808\n",
            "dtype: int64\n"
          ]
        }
      ]
    },
    {
      "cell_type": "code",
      "source": [
        "#знайдіть ці ж параметри за допомогою аналітичного рішення;\n",
        "from sklearn.linear_model import LinearRegression\n",
        "data_set = pd.read_csv(\"Housing.csv\")\n",
        "lr = LinearRegression()\n",
        "data_x = pd.concat([data_set['area'], data_set['bedrooms'], data_set['bathrooms']], axis = 1)\n",
        "# print(data_x)\n",
        "lr.fit(data_x, data_set['price'])\n",
        "\n",
        "data_set['Прогноз'] = lr.predict(data_x).astype(int)\n",
        "data_set['Залишок'] = data_set['price'] - data_set['Прогноз']\n",
        "print(data_set)\n",
        "print(np.min(np.sqrt(data_set['Залишок']**2)))\n",
        "print(f\"Intercept from sklearn: {lr.intercept_}\")\n",
        "print(f\"Coefficients from sklearn: {lr.coef_.astype(int)}\")"
      ],
      "metadata": {
        "id": "5Hko9muauXHx",
        "colab": {
          "base_uri": "https://localhost:8080/"
        },
        "outputId": "12960b42-92b0-4ad5-d472-e2ecfdc191e8"
      },
      "execution_count": 8,
      "outputs": [
        {
          "output_type": "stream",
          "name": "stdout",
          "text": [
            "        price  area  bedrooms  bathrooms  stories mainroad guestroom basement  \\\n",
            "0    13300000  7420         4          2        3      yes        no       no   \n",
            "1    12250000  8960         4          4        4      yes        no       no   \n",
            "2    12250000  9960         3          2        2      yes        no      yes   \n",
            "3    12215000  7500         4          2        2      yes        no      yes   \n",
            "4    11410000  7420         4          1        2      yes       yes      yes   \n",
            "..        ...   ...       ...        ...      ...      ...       ...      ...   \n",
            "540   1820000  3000         2          1        1      yes        no      yes   \n",
            "541   1767150  2400         3          1        1       no        no       no   \n",
            "542   1750000  3620         2          1        1      yes        no       no   \n",
            "543   1750000  2910         3          1        1       no        no       no   \n",
            "544   1750000  3850         3          1        2      yes        no       no   \n",
            "\n",
            "    hotwaterheating airconditioning  parking prefarea furnishingstatus  \\\n",
            "0                no             yes        2      yes        furnished   \n",
            "1                no             yes        3       no        furnished   \n",
            "2                no              no        2      yes   semi-furnished   \n",
            "3                no             yes        3      yes        furnished   \n",
            "4                no             yes        2       no        furnished   \n",
            "..              ...             ...      ...      ...              ...   \n",
            "540              no              no        2       no      unfurnished   \n",
            "541              no              no        0       no   semi-furnished   \n",
            "542              no              no        0       no      unfurnished   \n",
            "543              no              no        0       no        furnished   \n",
            "544              no              no        0       no      unfurnished   \n",
            "\n",
            "      Прогноз  Залишок  \n",
            "0     7036627  6263373  \n",
            "1    10392020  1857980  \n",
            "2     7591864  4658136  \n",
            "3     7066928  5148072  \n",
            "4     5650577  5759423  \n",
            "..        ...      ...  \n",
            "540   3162806 -1342806  \n",
            "541   3342368 -1575218  \n",
            "542   3397639 -1647639  \n",
            "543   3535537 -1785537  \n",
            "544   3891574 -2141574  \n",
            "\n",
            "[545 rows x 15 columns]\n",
            "2197.0\n",
            "Intercept from sklearn: -173171.6076326361\n",
            "Coefficients from sklearn: [    378  406820 1386049]\n"
          ]
        }
      ]
    },
    {
      "cell_type": "code",
      "source": [
        "#порівняйте отримані результати.\n",
        "print(f\"{lr.intercept_} {lr.coef_.astype(int)}\")\n",
        "print(w_new.astype(int))"
      ],
      "metadata": {
        "id": "U27rWhMAum2k",
        "colab": {
          "base_uri": "https://localhost:8080/"
        },
        "outputId": "b99bbe3c-3cdc-44ca-802a-a434c0506d2f"
      },
      "execution_count": 9,
      "outputs": [
        {
          "output_type": "stream",
          "name": "stdout",
          "text": [
            "-173171.6076326361 [    378  406820 1386049]\n",
            "[[-9223372036854775808]\n",
            " [-9223372036854775808]\n",
            " [-9223372036854775808]\n",
            " [-9223372036854775808]]\n"
          ]
        }
      ]
    }
  ]
}