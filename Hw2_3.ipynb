{
  "nbformat": 4,
  "nbformat_minor": 0,
  "metadata": {
    "colab": {
      "provenance": []
    },
    "kernelspec": {
      "name": "python3",
      "display_name": "Python 3"
    },
    "language_info": {
      "name": "python"
    }
  },
  "cells": [
    {
      "cell_type": "code",
      "execution_count": 183,
      "metadata": {
        "id": "w05psmrnicdF",
        "colab": {
          "base_uri": "https://localhost:8080/"
        },
        "outputId": "35231303-f0af-415b-d9bd-05334c7366ed"
      },
      "outputs": [
        {
          "output_type": "stream",
          "name": "stdout",
          "text": [
            "                                                  Name  \\\n",
            "0                        10-Day Green Smoothie Cleanse   \n",
            "1                                    11/22/63: A Novel   \n",
            "2              12 Rules for Life: An Antidote to Chaos   \n",
            "3                               1984 (Signet Classics)   \n",
            "4    5,000 Awesome Facts (About Everything!) (Natio...   \n",
            "..                                                 ...   \n",
            "545       Wrecking Ball (Diary of a Wimpy Kid Book 14)   \n",
            "546  You Are a Badass: How to Stop Doubting Your Gr...   \n",
            "547  You Are a Badass: How to Stop Doubting Your Gr...   \n",
            "548  You Are a Badass: How to Stop Doubting Your Gr...   \n",
            "549  You Are a Badass: How to Stop Doubting Your Gr...   \n",
            "\n",
            "                       Author  User Rating  Reviews  Price  Year        Genre  \n",
            "0                    JJ Smith          4.7    17350      8  2016  Non Fiction  \n",
            "1                Stephen King          4.6     2052     22  2011      Fiction  \n",
            "2          Jordan B. Peterson          4.7    18979     15  2018  Non Fiction  \n",
            "3               George Orwell          4.7    21424      6  2017      Fiction  \n",
            "4    National Geographic Kids          4.8     7665     12  2019  Non Fiction  \n",
            "..                        ...          ...      ...    ...   ...          ...  \n",
            "545               Jeff Kinney          4.9     9413      8  2019      Fiction  \n",
            "546               Jen Sincero          4.7    14331      8  2016  Non Fiction  \n",
            "547               Jen Sincero          4.7    14331      8  2017  Non Fiction  \n",
            "548               Jen Sincero          4.7    14331      8  2018  Non Fiction  \n",
            "549               Jen Sincero          4.7    14331      8  2019  Non Fiction  \n",
            "\n",
            "[550 rows x 7 columns]\n"
          ]
        }
      ],
      "source": [
        "#Для цієї вправи ми використовуємо дані за Топ-50 рейтингом книг, що найбільше продаються на Amazon за 11 років (з 2009 по 2019). Датасет знаходиться у відкритому доступі на Kaggle.com. Завантажте файл csv за посиланням і перемістіть його в ту саму директорію, де знаходиться ваш робочий ноутбук (для зручності). Після цього переходьте до завдання\n",
        "import pandas as pd\n",
        "%matplotlib inline\n",
        "books = pd.read_csv(\"bestsellers with categories.csv\")\n",
        "print(books)"
      ]
    },
    {
      "cell_type": "code",
      "source": [
        "#Перевірте, чи у всіх рядків вистачає даних: виведіть кількість пропусків (na) у кожному зі стовпців (використовуйте функції isna та sum)\n",
        "#Відповідь: Чи є в якихось змінних пропуски? (Так / ні)\n",
        "num_nan = books.isna().sum(min_count=True)\n",
        "print(num_nan)\n",
        "print(\"No\")"
      ],
      "metadata": {
        "id": "VT4w2sUl4zVW",
        "colab": {
          "base_uri": "https://localhost:8080/"
        },
        "outputId": "de47d887-feb6-4cd8-e754-9c02f4fcb1a0"
      },
      "execution_count": 2,
      "outputs": [
        {
          "output_type": "stream",
          "name": "stdout",
          "text": [
            "Name           0\n",
            "Author         0\n",
            "User Rating    0\n",
            "Reviews        0\n",
            "Price          0\n",
            "Year           0\n",
            "Genre          0\n",
            "dtype: int64\n",
            "No\n"
          ]
        }
      ]
    },
    {
      "cell_type": "code",
      "source": [
        "#Перевірте, які є унікальні значення в колонці genre (використовуйте функцію unique)\n",
        "#Відповідь: Які є унікальні жанри?\n",
        "un_gen = books[\"Genre\"].unique()\n",
        "print(un_gen)"
      ],
      "metadata": {
        "id": "bPpAousA48dj",
        "colab": {
          "base_uri": "https://localhost:8080/"
        },
        "outputId": "e5ee97a2-b0ab-4428-8676-e9e4c1515b0b"
      },
      "execution_count": 5,
      "outputs": [
        {
          "output_type": "stream",
          "name": "stdout",
          "text": [
            "['Non Fiction' 'Fiction']\n"
          ]
        }
      ]
    },
    {
      "cell_type": "code",
      "source": [
        "#Тепер подивіться на розподіл цін: побудуйте діаграму (використовуйте kind='hist')\n",
        "import matplotlib.pyplot as plt\n",
        "import numpy as np\n",
        "books[\"Price\"].plot(kind = 'hist', color = \"#483D8B\")\n",
        "plt.xlabel(\"Price\")\n",
        "plt.grid()\n",
        "plt.show()"
      ],
      "metadata": {
        "id": "6IhKtCo7495f",
        "colab": {
          "base_uri": "https://localhost:8080/",
          "height": 449
        },
        "outputId": "892068c8-20d5-47c4-c4bc-162b92b667a8"
      },
      "execution_count": 188,
      "outputs": [
        {
          "output_type": "display_data",
          "data": {
            "text/plain": [
              "<Figure size 640x480 with 1 Axes>"
            ],
            "image/png": "[encoded data removed]"
          },
          "metadata": {}
        }
      ]
    },
    {
      "cell_type": "code",
      "source": [
        "#Визначте, яка ціна у нас максимальна, мінімальна, середня, медіанна (використовуйте функції max, min, mean, median)\n",
        "#Відповідь: Максимальна ціна?\n",
        "print(\"Максимальна ціна:\", books[\"Price\"].max())\n",
        "#Відповідь: Мінімальна ціна?\n",
        "print(\"Мінімальна ціна:\", books[\"Price\"].min())\n",
        "#Відповідь: Середня ціна?\n",
        "print(\"Середня ціна:\", books[\"Price\"].mean())\n",
        "#Відповідь: Медіанна ціна?\n",
        "print(\"Медіанна ціна:\", books[\"Price\"].median())"
      ],
      "metadata": {
        "id": "8UlxrOLK5AO5",
        "colab": {
          "base_uri": "https://localhost:8080/"
        },
        "outputId": "1d157060-5399-4005-bd8a-54b0e4b26748"
      },
      "execution_count": 8,
      "outputs": [
        {
          "output_type": "stream",
          "name": "stdout",
          "text": [
            "Максимальна ціна: 105\n",
            "Мінімальна ціна: 0\n",
            "Середня ціна: 13.1\n",
            "Медіанна ціна: 11.0\n"
          ]
        }
      ]
    },
    {
      "cell_type": "code",
      "source": [
        "#Відповідь: Який рейтинг у датасеті найвищий? Відповідь:\n",
        "print(\"Мнайвищий рейтинг:\", books[\"User Rating\"].max())"
      ],
      "metadata": {
        "id": "gKHLEnZt5K72",
        "colab": {
          "base_uri": "https://localhost:8080/"
        },
        "outputId": "ab401637-e821-410d-9a49-0a339b109d74"
      },
      "execution_count": 10,
      "outputs": [
        {
          "output_type": "stream",
          "name": "stdout",
          "text": [
            "Мнайвищий рейтинг: 4.9\n"
          ]
        }
      ]
    },
    {
      "cell_type": "code",
      "source": [
        "#Відповідь: Скільки книг мають такий рейтинг? Відповідь:\n",
        "print(books[\"Name\"][books[\"User Rating\"] == 4.9].count())"
      ],
      "metadata": {
        "id": "D5-rXRBV5NeD",
        "colab": {
          "base_uri": "https://localhost:8080/"
        },
        "outputId": "a7b0af40-73ef-488c-8991-375e3eca62cf"
      },
      "execution_count": 13,
      "outputs": [
        {
          "output_type": "stream",
          "name": "stdout",
          "text": [
            "52\n"
          ]
        }
      ]
    },
    {
      "cell_type": "code",
      "source": [
        "#Відповідь: Яка книга має найбільше відгуків? Відповідь:\n",
        "print(books[books[\"Reviews\"] == books[\"Reviews\"].max()])"
      ],
      "metadata": {
        "id": "Yeb3lVgV5Ofi",
        "colab": {
          "base_uri": "https://localhost:8080/"
        },
        "outputId": "1a2f4595-b544-4e77-b198-516092f7b586"
      },
      "execution_count": 14,
      "outputs": [
        {
          "output_type": "stream",
          "name": "stdout",
          "text": [
            "                        Name       Author  User Rating  Reviews  Price  Year  \\\n",
            "534  Where the Crawdads Sing  Delia Owens          4.8    87841     15  2019   \n",
            "\n",
            "       Genre  \n",
            "534  Fiction  \n"
          ]
        }
      ]
    },
    {
      "cell_type": "code",
      "source": [
        "#Відповідь: З тих книг, що потрапили до Топ-50 у 2015 році, яка книга найдорожча (можна використати проміжний датафрейм)? Відповідь:\n",
        "books_2015 = books[books[\"Year\"] == 2015]\n",
        "print(books_2015[books_2015[\"Price\"] == books_2015[\"Price\"].max()])"
      ],
      "metadata": {
        "id": "G1UgdmEA5SbF",
        "colab": {
          "base_uri": "https://localhost:8080/"
        },
        "outputId": "84db8a69-8ef6-4b5e-ca64-6c25cbb734e0"
      },
      "execution_count": 19,
      "outputs": [
        {
          "output_type": "stream",
          "name": "stdout",
          "text": [
            "                                                  Name  \\\n",
            "277  Publication Manual of the American Psychologic...   \n",
            "\n",
            "                                 Author  User Rating  Reviews  Price  Year  \\\n",
            "277  American Psychological Association          4.5     8580     46  2015   \n",
            "\n",
            "           Genre  \n",
            "277  Non Fiction  \n"
          ]
        }
      ]
    },
    {
      "cell_type": "code",
      "source": [
        "#Відповідь: Скільки книг жанру Fiction потрапили до Топ-50 у 2010 році (використовуйте &)? Відповідь:\n",
        "books_2010 = books[books[\"Year\"] == 2010]\n",
        "print(books_2010[\"Name\"][books_2010[\"Genre\"] == \"Fiction\"].count())"
      ],
      "metadata": {
        "id": "NU--gtq05TfD",
        "colab": {
          "base_uri": "https://localhost:8080/"
        },
        "outputId": "6ad61e7c-da97-41bc-a985-1c9238dc39be"
      },
      "execution_count": 23,
      "outputs": [
        {
          "output_type": "stream",
          "name": "stdout",
          "text": [
            "20\n"
          ]
        }
      ]
    },
    {
      "cell_type": "code",
      "source": [
        "#Відповідь: Скільки книг з рейтингом 4.9 потрапило до рейтингу у 2010 та 2011 роках (використовуйте | або функцію isin)? Відповідь:\n",
        "books_2010_2011 = books[books[\"Year\"] == 2010|2011]\n",
        "print(books_2010_2011[\"Name\"][books_2010_2011[\"User Rating\"] == 4.9].count())"
      ],
      "metadata": {
        "id": "QmKWEWup5Vq5",
        "colab": {
          "base_uri": "https://localhost:8080/"
        },
        "outputId": "56536707-2a95-42f4-86b7-90604183de42"
      },
      "execution_count": 24,
      "outputs": [
        {
          "output_type": "stream",
          "name": "stdout",
          "text": [
            "1\n"
          ]
        }
      ]
    },
    {
      "cell_type": "code",
      "source": [
        "#І насамкінець, давайте відсортуємо за зростанням ціни всі книги, які потрапили до рейтингу в 2015 році і коштують дешевше за 8 доларів (використовуйте функцію sort_values).\n",
        "books_2015_p = books_2015[books_2015[\"Price\"]< 8]\n",
        "books_2015_sort = books_2015_p.sort_values(by = 'Price').reset_index(drop = True)\n",
        "print(books_2015_sort)"
      ],
      "metadata": {
        "id": "B96KpYs05YKr",
        "colab": {
          "base_uri": "https://localhost:8080/"
        },
        "outputId": "78dea43f-829b-418c-aca7-3b4990a0dc9b"
      },
      "execution_count": 29,
      "outputs": [
        {
          "output_type": "stream",
          "name": "stdout",
          "text": [
            "                                                 Name              Author  \\\n",
            "0                               To Kill a Mockingbird          Harper Lee   \n",
            "1                       Laugh-Out-Loud Jokes for Kids         Rob Elliott   \n",
            "2                          Knock-Knock Jokes for Kids         Rob Elliott   \n",
            "3                                     First 100 Words        Roger Priddy   \n",
            "4                                Giraffes Can't Dance       Giles Andreae   \n",
            "5   Creative Haven Creative Cats Coloring Book (Ad...     Marjorie Sarnat   \n",
            "6                      Dear Zoo: A Lift-the-Flap Book        Rod Campbell   \n",
            "7   Dover Creative Haven Art Nouveau Animal Design...         Marty Noble   \n",
            "8                         The Very Hungry Caterpillar          Eric Carle   \n",
            "9   Killing Reagan: The Violent Assault That Chang...       Bill O'Reilly   \n",
            "10                       Baby Touch and Feel: Animals                  DK   \n",
            "11                                   Love You Forever       Robert Munsch   \n",
            "12  Creative Haven Owls Coloring Book (Adult Color...     Marjorie Sarnat   \n",
            "13     Adult Coloring Book: Stress Relieving Patterns  Blue Star Coloring   \n",
            "14  The Four Agreements: A Practical Guide to Pers...     Don Miguel Ruiz   \n",
            "15  Adult Coloring Book: Stress Relieving Animal D...  Blue Star Coloring   \n",
            "16              Old School (Diary of a Wimpy Kid #10)         Jeff Kinney   \n",
            "\n",
            "    User Rating  Reviews  Price  Year        Genre  \n",
            "0           4.8    26234      0  2015      Fiction  \n",
            "1           4.6     6990      4  2015  Non Fiction  \n",
            "2           4.5     3673      4  2015  Non Fiction  \n",
            "3           4.7    17323      4  2015  Non Fiction  \n",
            "4           4.8    14038      4  2015      Fiction  \n",
            "5           4.8     4022      4  2015  Non Fiction  \n",
            "6           4.8    10922      5  2015      Fiction  \n",
            "7           4.6     2134      5  2015  Non Fiction  \n",
            "8           4.9    19546      5  2015      Fiction  \n",
            "9           4.6     5235      5  2015  Non Fiction  \n",
            "10          4.6     5360      5  2015  Non Fiction  \n",
            "11          4.8    18613      5  2015      Fiction  \n",
            "12          4.8     3871      5  2015  Non Fiction  \n",
            "13          4.4     2951      6  2015  Non Fiction  \n",
            "14          4.7    23308      6  2015  Non Fiction  \n",
            "15          4.6     2925      6  2015  Non Fiction  \n",
            "16          4.8     6169      7  2015      Fiction  \n"
          ]
        }
      ]
    },
    {
      "cell_type": "code",
      "source": [
        "#Відповідь: Яка книга остання у відсортованому списку? Відповідь:\n",
        "print(books_2015_sort.iloc[16])"
      ],
      "metadata": {
        "id": "oNsggeAF5c7I",
        "colab": {
          "base_uri": "https://localhost:8080/"
        },
        "outputId": "b3dd8ade-5b95-4831-c9ff-65faa89f7f1b"
      },
      "execution_count": 32,
      "outputs": [
        {
          "output_type": "stream",
          "name": "stdout",
          "text": [
            "Name           Old School (Diary of a Wimpy Kid #10)\n",
            "Author                                   Jeff Kinney\n",
            "User Rating                                      4.8\n",
            "Reviews                                         6169\n",
            "Price                                              7\n",
            "Year                                            2015\n",
            "Genre                                        Fiction\n",
            "Name: 16, dtype: object\n"
          ]
        }
      ]
    },
    {
      "cell_type": "code",
      "source": [
        "#Для початку давайте подивимося на максимальну та мінімальну ціни для кожного з жанрів (використовуйте функції groupby та agg, для підрахунку мінімальних та максимальних значень використовуйте max та min). Не беріть усі стовпці, виберіть тільки потрібні вам\n",
        "books_price = books.drop(['Reviews',\"Year\",\"User Rating\",\"User Rating\",\"Name\",\"Author\"], axis = 1)\n",
        "print(books_price)\n",
        "b1_min = books_price.groupby([\"Genre\"]).agg({\"min\"}).reset_index()\n",
        "b1_max = books_price.groupby([\"Genre\"]).agg({\"max\"}).reset_index()\n",
        "print(b1_min, b1_max)\n",
        "#Відповідь: Максимальна ціна для жанру Fiction: Відповідь\n",
        "print(\"Максимальна ціна для жанру Fiction: 82\")\n",
        "#Відповідь: Мінімальна ціна для жанру Fiction: Відповідь\n",
        "print(\"Мінімальна ціна для жанру Fiction: 0\")\n",
        "#Відповідь: Максимальна ціна для жанру Non Fiction: Відповідь\n",
        "print(\"Максимальна ціна для жанру Fiction: 105\")\n",
        "#Відповідь: Мінімальна ціна для жанру Non Fiction: Відповідь\n",
        "print(\"Мінімальна ціна для жанру Fiction: 0\")"
      ],
      "metadata": {
        "id": "p4SlriB35fl4",
        "colab": {
          "base_uri": "https://localhost:8080/"
        },
        "outputId": "8dcf5e0b-5e30-42e6-8074-4880ccf686fe"
      },
      "execution_count": 154,
      "outputs": [
        {
          "output_type": "stream",
          "name": "stdout",
          "text": [
            "     Price        Genre\n",
            "0        8  Non Fiction\n",
            "1       22      Fiction\n",
            "2       15  Non Fiction\n",
            "3        6      Fiction\n",
            "4       12  Non Fiction\n",
            "..     ...          ...\n",
            "545      8      Fiction\n",
            "546      8  Non Fiction\n",
            "547      8  Non Fiction\n",
            "548      8  Non Fiction\n",
            "549      8  Non Fiction\n",
            "\n",
            "[550 rows x 2 columns]\n",
            "         Genre Price\n",
            "                 min\n",
            "0      Fiction     0\n",
            "1  Non Fiction     0          Genre Price\n",
            "                 max\n",
            "0      Fiction    82\n",
            "1  Non Fiction   105\n",
            "Максимальна ціна для жанру Fiction: 82\n",
            "Мінімальна ціна для жанру Fiction: 0\n",
            "Максимальна ціна для жанру Fiction: 105\n",
            "Мінімальна ціна для жанру Fiction: 0\n"
          ]
        }
      ]
    },
    {
      "cell_type": "code",
      "source": [
        "#Тепер створіть новий датафрейм, який вміщатиме кількість книг для кожного з авторів (використовуйте функції groupby та agg, для підрахунку кількості використовуйте count). Не беріть усі стовпці, виберете тільки потрібні\n",
        "\n",
        "books_author_new = books.groupby('Author')['Author'].count().to_frame().rename(columns={'Author': 'Count'}).sort_values('Count')\n",
        "print(books_author_new)\n",
        "#Відповідь: Якої розмірності вийшла таблиця? Відповідь:\n",
        "print(\"Розмір таблиці:\", books_author_new.shape)\n",
        "#Відповідь: Який автор має найбільше книг? Відповідь:\n",
        "print(books_author_new.iloc[247])\n",
        "print(\"Який автор має найбільше книг? Відповідь: Jeff Kinney\")\n",
        "#Відповідь: Скільки книг цього автора? Відповідь:\n",
        "print(\"Скільки книг цього автора? Відповідь: 12\")"
      ],
      "metadata": {
        "id": "3gzkFNZx5rjQ",
        "colab": {
          "base_uri": "https://localhost:8080/"
        },
        "outputId": "5b9d8e83-86a5-4620-fd16-f93606c79a2a"
      },
      "execution_count": 118,
      "outputs": [
        {
          "output_type": "stream",
          "name": "stdout",
          "text": [
            "                                    Count\n",
            "Author                                   \n",
            "Jill Twiss                              1\n",
            "Patrick Thorpe                          1\n",
            "Ian K. Smith M.D.                       1\n",
            "Howard Stern                            1\n",
            "Hopscotch Girls                         1\n",
            "...                                   ...\n",
            "American Psychological Association     10\n",
            "Suzanne Collins                        11\n",
            "Gary Chapman                           11\n",
            "Rick Riordan                           11\n",
            "Jeff Kinney                            12\n",
            "\n",
            "[248 rows x 1 columns]\n",
            "Розмір таблиці: (248, 1)\n",
            "Count    12\n",
            "Name: Jeff Kinney, dtype: int64\n",
            "Який автор має найбільше книг? Відповідь: Jeff Kinney\n",
            "Скільки книг цього автора? Відповідь: 12\n"
          ]
        }
      ]
    },
    {
      "cell_type": "code",
      "source": [
        "#Тепер створіть другий датафрейм, який буде вміщати середній рейтинг для кожного автора (використовуйте функції groupby та agg, для підрахунку середнього значення використовуйте mean). Не беріть усі стовпці, виберете тільки потрібні\n",
        "rat_authors = books.groupby('Author')['User Rating'].agg('mean').round(2).to_frame().sort_values(by = \"User Rating\")\n",
        "print(rat_authors)\n",
        "#Відповідь: У якого автора середній рейтинг мінімальний? Відповідь:\n",
        "print(\"У якого автора середній рейтинг мінімальний? Відповідь: Jill Twiss \")\n",
        "#Відповідь: Який у цього автора середній рейтинг? Відповідь:\n",
        "print(\"4.9\")"
      ],
      "metadata": {
        "id": "vQgNmqhP5yCE",
        "colab": {
          "base_uri": "https://localhost:8080/"
        },
        "outputId": "0c6b5d2b-2f9f-4ee6-9925-e81aa296bd3b"
      },
      "execution_count": 128,
      "outputs": [
        {
          "output_type": "stream",
          "name": "stdout",
          "text": [
            "                       User Rating\n",
            "Author                            \n",
            "Donna Tartt                    3.9\n",
            "Gillian Flynn                  4.0\n",
            "Muriel Barbery                 4.0\n",
            "Gallup                         4.0\n",
            "Chris Cleave                   4.1\n",
            "...                            ...\n",
            "Lin-Manuel Miranda             4.9\n",
            "Emily Winfield Martin          4.9\n",
            "Eric Carle                     4.9\n",
            "Bill Martin Jr.                4.9\n",
            "Jill Twiss                     4.9\n",
            "\n",
            "[248 rows x 1 columns]\n"
          ]
        }
      ]
    },
    {
      "cell_type": "code",
      "source": [
        "#З'єднайте останні два датафрейми так, щоб для кожного автора було видно кількість книг та середній рейтинг (Використовуйте функцію concat з параметром axis=1). Збережіть результат у змінну\n",
        "two_data_set = pd.concat([books_author_new, rat_authors], axis=1).sort_values(['Count', 'User Rating'])\n",
        "#Відсортуйте датафрейм за зростаючою кількістю книг та зростаючим рейтингом (використовуйте функцію sort_values)\n",
        "print(two_data_set)\n",
        "#Відповідь: Який автор перший у списку?\n",
        "print(\"Який автор перший у списку? Відповідь: Muriel Barbery\")"
      ],
      "metadata": {
        "id": "mikikrRk51Ab",
        "colab": {
          "base_uri": "https://localhost:8080/"
        },
        "outputId": "5d48e4d1-9004-4e7c-a5e8-c5cfee9d6844"
      },
      "execution_count": 131,
      "outputs": [
        {
          "output_type": "stream",
          "name": "stdout",
          "text": [
            "                                    Count  User Rating\n",
            "Author                                                \n",
            "Muriel Barbery                          1         4.00\n",
            "Ian K. Smith M.D.                       1         4.10\n",
            "Pierre Dukan                            1         4.10\n",
            "Chris Cleave                            1         4.10\n",
            "Geneen Roth                             1         4.20\n",
            "...                                   ...          ...\n",
            "American Psychological Association     10         4.50\n",
            "Suzanne Collins                        11         4.66\n",
            "Gary Chapman                           11         4.74\n",
            "Rick Riordan                           11         4.77\n",
            "Jeff Kinney                            12         4.80\n",
            "\n",
            "[248 rows x 2 columns]\n",
            "Muriel Barbery\n"
          ]
        }
      ]
    },
    {
      "cell_type": "code",
      "source": [
        "#додайте від 3 до 5 графіків функцій різного типу на ваш вибір. Задайте графікам оформлення, щоб кожен графік у своїй домашній роботі чимось відрізнявся і не був схожим на інші. Можна використовувати як matplotlib, так і seaborn.\n",
        "import matplotlib.pyplot as plt\n",
        "import numpy as np\n",
        "books_2010[\"User Rating\"].plot(kind = 'box', color = \"#800080\")\n",
        "plt.title('Рейтинг авторів за 2010 рік', fontsize=12)\n",
        "plt.grid()\n",
        "plt.show()"
      ],
      "metadata": {
        "id": "vvNc8_HD58go",
        "colab": {
          "base_uri": "https://localhost:8080/",
          "height": 452
        },
        "outputId": "702a8011-3d54-4a29-c212-1047b71d1c0a"
      },
      "execution_count": 186,
      "outputs": [
        {
          "output_type": "display_data",
          "data": {
            "text/plain": [
              "<Figure size 640x480 with 1 Axes>"
            ],
            "image/png": "[encoded data removed]"
          },
          "metadata": {}
        }
      ]
    },
    {
      "cell_type": "code",
      "source": [
        "import matplotlib.pyplot as plt\n",
        "import numpy as np\n",
        "books_author_new.plot(color = \"#00008B\")\n",
        "plt.xticks(rotation=90)\n",
        "plt.title('Кількість книг по авторам', fontsize=15)\n",
        "# plt.legend()\n",
        "plt.grid(color='y', linestyle='--', linewidth=0.4)\n",
        "plt.show()"
      ],
      "metadata": {
        "id": "KlfwjY2Ax0pi",
        "colab": {
          "base_uri": "https://localhost:8080/",
          "height": 582
        },
        "outputId": "c93585fa-1f86-43ef-f042-f32772692e71"
      },
      "execution_count": 185,
      "outputs": [
        {
          "output_type": "display_data",
          "data": {
            "text/plain": [
              "<Figure size 640x480 with 1 Axes>"
            ],
            "image/png": "[encoded data removed]"
          },
          "metadata": {}
        }
      ]
    },
    {
      "cell_type": "code",
      "source": [
        "import matplotlib.pyplot as plt\n",
        "import numpy as np\n",
        "rat_authors = books.groupby('Year')['Price'].mean()\n",
        "rat_authors.plot(kind = 'barh', color = \"#7CFC00\")\n",
        "plt.xlabel(\"Price\")\n",
        "plt.title('Середня ціна по роках', fontsize=15)\n",
        "plt.show()"
      ],
      "metadata": {
        "colab": {
          "base_uri": "https://localhost:8080/",
          "height": 474
        },
        "id": "LSh2rWEp62Tg",
        "outputId": "f210b1d5-c2af-4ebc-8d53-107f7ff6ab5e"
      },
      "execution_count": 184,
      "outputs": [
        {
          "output_type": "display_data",
          "data": {
            "text/plain": [
              "<Figure size 640x480 with 1 Axes>"
            ],
            "image/png": "[encoded data removed]"
          },
          "metadata": {}
        }
      ]
    }
  ]
}